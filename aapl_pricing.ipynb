{
 "cells": [
  {
   "cell_type": "markdown",
   "metadata": {},
   "source": [
    "### Library Import"
   ]
  },
  {
   "cell_type": "code",
   "execution_count": 89,
   "metadata": {},
   "outputs": [],
   "source": [
    "import pandas as pd\n",
    "import numpy as np\n",
    "import os\n",
    "import matplotlib.pyplot as plt\n",
    "from yahoofinancials import YahooFinancials\n",
    "\n",
    "from LSMPricing import lsm_pricer\n",
    "from BinomialTreePricing import btree_pricer\n",
    "from BSAnalyticalPricing import BSAnalytical\n",
    "from MonteCarlo import simulate_gbm_paths"
   ]
  },
  {
   "cell_type": "markdown",
   "metadata": {},
   "source": [
    "### AAPL Option Chain Data Import"
   ]
  },
  {
   "cell_type": "code",
   "execution_count": 5,
   "metadata": {},
   "outputs": [],
   "source": [
    "currentdir = os.getcwd()\n",
    "targetdir = currentdir + \"\\\\aapl_eod_2019-ubqxfb\"\n",
    "files = os.listdir(targetdir)\n",
    "\n",
    "data = pd.read_csv(targetdir + \"\\\\\"+files[0], sep=\",\", low_memory=False)\n",
    "for i in range(1, len(files)):\n",
    "    data = pd.concat([data, pd.read_csv(targetdir + \"\\\\\"+files[i], sep=\",\", low_memory=False)])\n",
    "data.reset_index(inplace=True)"
   ]
  },
  {
   "cell_type": "code",
   "execution_count": 50,
   "metadata": {},
   "outputs": [
    {
     "data": {
      "text/plain": [
       "Index(['index', '[QUOTE_UNIXTIME]', ' [QUOTE_READTIME]', ' [QUOTE_DATE]',\n",
       "       ' [QUOTE_TIME_HOURS]', ' [UNDERLYING_LAST]', ' [EXPIRE_DATE]',\n",
       "       ' [EXPIRE_UNIX]', ' [DTE]', ' [C_DELTA]', ' [C_GAMMA]', ' [C_VEGA]',\n",
       "       ' [C_THETA]', ' [C_RHO]', ' [C_IV]', ' [C_VOLUME]', ' [C_LAST]',\n",
       "       ' [C_SIZE]', ' [C_BID]', ' [C_ASK]', ' [STRIKE]', ' [P_BID]',\n",
       "       ' [P_ASK]', ' [P_SIZE]', ' [P_LAST]', ' [P_DELTA]', ' [P_GAMMA]',\n",
       "       ' [P_VEGA]', ' [P_THETA]', ' [P_RHO]', ' [P_IV]', ' [P_VOLUME]',\n",
       "       ' [STRIKE_DISTANCE]', ' [STRIKE_DISTANCE_PCT]'],\n",
       "      dtype='object')"
      ]
     },
     "execution_count": 50,
     "metadata": {},
     "output_type": "execute_result"
    }
   ],
   "source": [
    "data.columns"
   ]
  },
  {
   "cell_type": "code",
   "execution_count": 72,
   "metadata": {},
   "outputs": [],
   "source": [
    "first_day_options = data[data[\" [QUOTE_DATE]\"] == \" 2019-01-02\"]\n",
    "first_day_1y_options = first_day_options[first_day_options[\" [EXPIRE_DATE]\"] == ' 2020-01-17']\n",
    "# display(first_day_1y_options.head())\n",
    "# first_day_1y_options[\" [STRIKE]\"]"
   ]
  },
  {
   "cell_type": "markdown",
   "metadata": {},
   "source": [
    "### Get AAPL Stock Data"
   ]
  },
  {
   "cell_type": "code",
   "execution_count": 63,
   "metadata": {},
   "outputs": [],
   "source": [
    "start_date=\"2019-01-01\"\n",
    "end_date=\"2020-01-01\"\n",
    "time_interval=\"daily\"\n",
    "\n",
    "aapl = YahooFinancials(\"AAPL\")\n",
    "aapl = aapl.get_historical_price_data(start_date=start_date, end_date=end_date, time_interval=time_interval)\n",
    "aapl = pd.DataFrame(aapl[\"AAPL\"]['prices'])\n",
    "aapl = aapl.drop('date', axis=1).set_index('formatted_date')"
   ]
  },
  {
   "cell_type": "markdown",
   "metadata": {},
   "source": [
    "### Set Params"
   ]
  },
  {
   "cell_type": "code",
   "execution_count": 69,
   "metadata": {},
   "outputs": [],
   "source": [
    "sig = np.std(aapl[\"adjclose\"].pct_change()[1:])*np.sqrt(len(aapl))\n",
    "nsims = 10000\n",
    "S0 = 157.92\n",
    "T = 1\n",
    "discrete_freq = 252\n",
    "OP_TYPE = \"put\"\n",
    "K = 155.0\n",
    "r = .06\n",
    "POLY_DEGREE = 5"
   ]
  },
  {
   "cell_type": "code",
   "execution_count": 86,
   "metadata": {},
   "outputs": [
    {
     "name": "stdout",
     "output_type": "stream",
     "text": [
      "Actual American Put:  16.93\n",
      "Actual American call:  21.405\n"
     ]
    }
   ],
   "source": [
    "actual_data_op = first_day_1y_options[first_day_1y_options[\" [STRIKE]\"] == K]\n",
    "actual_call = (float(actual_data_op[' [C_BID]']) + float(actual_data_op[' [C_ASK]']))/2\n",
    "actual_put = (float(actual_data_op[' [P_BID]']) + float(actual_data_op[' [P_ASK]']))/2\n",
    "print(\"Actual American Put: \", actual_put)\n",
    "print(\"Actual American call: \", actual_call)"
   ]
  },
  {
   "cell_type": "markdown",
   "metadata": {},
   "source": [
    "### Pricing American Options (AAPL) using LSM Monte Carlo"
   ]
  },
  {
   "cell_type": "code",
   "execution_count": 87,
   "metadata": {},
   "outputs": [
    {
     "name": "stdout",
     "output_type": "stream",
     "text": [
      "LSM MC American Put:  10.776260895351635\n",
      "LSM MC American call:  21.487498071751144\n"
     ]
    }
   ],
   "source": [
    "put_price = lsm_pricer(\"ap\", nsims, S0, K, r, sig, T, discrete_freq, POLY_DEGREE)\n",
    "call_price = lsm_pricer(\"ac\", nsims, S0, K, r, sig, T, discrete_freq, POLY_DEGREE)\n",
    "print(\"LSM MC American Put: \", put_price)\n",
    "print(\"LSM MC American call: \", call_price)"
   ]
  },
  {
   "cell_type": "markdown",
   "metadata": {},
   "source": [
    "### Pricing American Options (AAPL) using BT"
   ]
  },
  {
   "cell_type": "code",
   "execution_count": 88,
   "metadata": {},
   "outputs": [
    {
     "name": "stdout",
     "output_type": "stream",
     "text": [
      "BT American Put:  11.395852199010301\n",
      "BT American call:  22.477613462417732\n"
     ]
    }
   ],
   "source": [
    "# Without control variates\n",
    "put_price = btree_pricer(S0, K, sig, r, T, 1000, \"ap\")\n",
    "call_price = btree_pricer(S0, K, sig, r, T, 1000, \"ac\")\n",
    "print(\"BT American Put: \", put_price)\n",
    "print(\"BT American call: \", call_price)"
   ]
  },
  {
   "cell_type": "markdown",
   "metadata": {},
   "source": [
    "# Charts"
   ]
  },
  {
   "cell_type": "markdown",
   "metadata": {},
   "source": [
    "##### Error vs Num. Simulations Graph (MC)"
   ]
  },
  {
   "cell_type": "code",
   "execution_count": 93,
   "metadata": {},
   "outputs": [],
   "source": [
    "call_fnsims = []\n",
    "for i in range(1000, 100000, 4000):\n",
    "    # put_price = lsm_pricer(\"ap\", i, S0, K, r, sig, T, discrete_freq, POLY_DEGREE)\n",
    "    call_price = lsm_pricer(\"ac\", i, S0, K, r, sig, T, discrete_freq, POLY_DEGREE)\n",
    "    call_fnsims.append(call_price)"
   ]
  },
  {
   "cell_type": "code",
   "execution_count": 95,
   "metadata": {},
   "outputs": [
    {
     "data": {
      "text/plain": [
       "Text(0.5, 1.0, 'Error vs Num. Simulations (1k to 100k) - LSM Call')"
      ]
     },
     "execution_count": 95,
     "metadata": {},
     "output_type": "execute_result"
    },
    {
     "data": {
      "image/png": "[encoded data removed]",
      "text/plain": [
       "<Figure size 432x288 with 1 Axes>"
      ]
     },
     "metadata": {
      "needs_background": "light"
     },
     "output_type": "display_data"
    }
   ],
   "source": [
    "plt.plot(actual_call - np.array(call_fnsims))\n",
    "plt.title(\"Error vs Num. Simulations (1k to 100k) - LSM Call\")"
   ]
  },
  {
   "cell_type": "markdown",
   "metadata": {},
   "source": [
    "##### Error vs Num. Trees Graph (MC)"
   ]
  },
  {
   "cell_type": "code",
   "execution_count": 101,
   "metadata": {},
   "outputs": [],
   "source": [
    "call_fntree = []\n",
    "for i in range(3, 1000, 10):\n",
    "    # put_price = lsm_pricer(\"ap\", i, S0, K, r, sig, T, discrete_freq, POLY_DEGREE)\n",
    "    call_price = btree_pricer(S0, K, sig, r, T, i, \"ac\")\n",
    "    call_fntree.append(call_price)"
   ]
  },
  {
   "cell_type": "code",
   "execution_count": 102,
   "metadata": {},
   "outputs": [
    {
     "data": {
      "text/plain": [
       "Text(0.5, 1.0, 'Error vs Num. Steps (3 to 1000) - BT Call')"
      ]
     },
     "execution_count": 102,
     "metadata": {},
     "output_type": "execute_result"
    },
    {
     "data": {
      "image/png": "[encoded data removed]",
      "text/plain": [
       "<Figure size 432x288 with 1 Axes>"
      ]
     },
     "metadata": {
      "needs_background": "light"
     },
     "output_type": "display_data"
    }
   ],
   "source": [
    "plt.plot(actual_call - np.array(call_fntree))\n",
    "plt.title(\"Error vs Num. Steps (3 to 1000) - BT Call\")"
   ]
  }
 ],
 "metadata": {
  "kernelspec": {
   "display_name": "Python 3.8.6 64-bit",
   "language": "python",
   "name": "python3"
  },
  "language_info": {
   "codemirror_mode": {
    "name": "ipython",
    "version": 3
   },
   "file_extension": ".py",
   "mimetype": "text/x-python",
   "name": "python",
   "nbconvert_exporter": "python",
   "pygments_lexer": "ipython3",
   "version": "3.8.6"
  },
  "orig_nbformat": 4,
  "vscode": {
   "interpreter": {
    "hash": "0bb75c20e1280d7c7443a0a37d938ae35e6dac5d0c3dfd0ff98a286ed926c26c"
   }
  }
 },
 "nbformat": 4,
 "nbformat_minor": 2
}
