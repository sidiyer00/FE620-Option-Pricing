{
 "cells": [
  {
   "attachments": {},
   "cell_type": "markdown",
   "metadata": {},
   "source": [
    "## Most Recent AAPL Options"
   ]
  },
  {
   "cell_type": "code",
   "execution_count": 30,
   "metadata": {},
   "outputs": [],
   "source": [
    "import pandas as pd\n",
    "import numpy as np\n",
    "import os\n",
    "import matplotlib.pyplot as plt\n",
    "from yahoofinancials import YahooFinancials\n",
    "\n",
    "from LSMPricing import lsm_pricer\n",
    "from BinomialTreePricing import btree_pricer\n",
    "from BSAnalyticalPricing import BSAnalytical\n",
    "from MonteCarlo import simulate_gbm_paths"
   ]
  },
  {
   "attachments": {},
   "cell_type": "markdown",
   "metadata": {},
   "source": [
    "## Download AAPL data using package: yfinance"
   ]
  },
  {
   "cell_type": "code",
   "execution_count": 31,
   "metadata": {},
   "outputs": [],
   "source": [
    "import yfinance as yf\n",
    "aapl = yf.Ticker(\"AAPL\")"
   ]
  },
  {
   "cell_type": "code",
   "execution_count": 77,
   "metadata": {},
   "outputs": [
    {
     "data": {
      "text/plain": [
       "array(['2022-12-23', '2022-12-30', '2023-01-06', '2023-01-13',\n",
       "       '2023-01-20', '2023-01-27', '2023-02-17', '2023-03-17',\n",
       "       '2023-04-21', '2023-05-19', '2023-06-16', '2023-07-21',\n",
       "       '2023-09-15', '2023-10-20', '2023-12-15', '2024-01-19',\n",
       "       '2024-03-15', '2024-06-21', '2025-01-17'], dtype='<U10')"
      ]
     },
     "execution_count": 77,
     "metadata": {},
     "output_type": "execute_result"
    }
   ],
   "source": [
    "np.array(aapl.options)"
   ]
  },
  {
   "cell_type": "code",
   "execution_count": 80,
   "metadata": {},
   "outputs": [
    {
     "data": {
      "text/html": [
       "<div>\n",
       "<style scoped>\n",
       "    .dataframe tbody tr th:only-of-type {\n",
       "        vertical-align: middle;\n",
       "    }\n",
       "\n",
       "    .dataframe tbody tr th {\n",
       "        vertical-align: top;\n",
       "    }\n",
       "\n",
       "    .dataframe thead th {\n",
       "        text-align: right;\n",
       "    }\n",
       "</style>\n",
       "<table border=\"1\" class=\"dataframe\">\n",
       "  <thead>\n",
       "    <tr style=\"text-align: right;\">\n",
       "      <th></th>\n",
       "      <th>Open</th>\n",
       "      <th>High</th>\n",
       "      <th>Low</th>\n",
       "      <th>Close</th>\n",
       "      <th>Volume</th>\n",
       "      <th>Dividends</th>\n",
       "      <th>Stock Splits</th>\n",
       "    </tr>\n",
       "    <tr>\n",
       "      <th>Date</th>\n",
       "      <th></th>\n",
       "      <th></th>\n",
       "      <th></th>\n",
       "      <th></th>\n",
       "      <th></th>\n",
       "      <th></th>\n",
       "      <th></th>\n",
       "    </tr>\n",
       "  </thead>\n",
       "  <tbody>\n",
       "    <tr>\n",
       "      <th>2022-12-16</th>\n",
       "      <td>136.690002</td>\n",
       "      <td>137.649994</td>\n",
       "      <td>133.729996</td>\n",
       "      <td>134.509995</td>\n",
       "      <td>160080100</td>\n",
       "      <td>0.0</td>\n",
       "      <td>0</td>\n",
       "    </tr>\n",
       "    <tr>\n",
       "      <th>2022-12-19</th>\n",
       "      <td>135.110001</td>\n",
       "      <td>135.199997</td>\n",
       "      <td>131.320007</td>\n",
       "      <td>132.369995</td>\n",
       "      <td>79592600</td>\n",
       "      <td>0.0</td>\n",
       "      <td>0</td>\n",
       "    </tr>\n",
       "    <tr>\n",
       "      <th>2022-12-20</th>\n",
       "      <td>131.389999</td>\n",
       "      <td>133.250000</td>\n",
       "      <td>129.889999</td>\n",
       "      <td>132.300003</td>\n",
       "      <td>77432800</td>\n",
       "      <td>0.0</td>\n",
       "      <td>0</td>\n",
       "    </tr>\n",
       "    <tr>\n",
       "      <th>2022-12-21</th>\n",
       "      <td>132.979996</td>\n",
       "      <td>136.809998</td>\n",
       "      <td>132.750000</td>\n",
       "      <td>135.449997</td>\n",
       "      <td>85859600</td>\n",
       "      <td>0.0</td>\n",
       "      <td>0</td>\n",
       "    </tr>\n",
       "    <tr>\n",
       "      <th>2022-12-22</th>\n",
       "      <td>134.352005</td>\n",
       "      <td>134.550003</td>\n",
       "      <td>131.134995</td>\n",
       "      <td>131.679993</td>\n",
       "      <td>24354454</td>\n",
       "      <td>0.0</td>\n",
       "      <td>0</td>\n",
       "    </tr>\n",
       "  </tbody>\n",
       "</table>\n",
       "</div>"
      ],
      "text/plain": [
       "                  Open        High         Low       Close     Volume  \\\n",
       "Date                                                                    \n",
       "2022-12-16  136.690002  137.649994  133.729996  134.509995  160080100   \n",
       "2022-12-19  135.110001  135.199997  131.320007  132.369995   79592600   \n",
       "2022-12-20  131.389999  133.250000  129.889999  132.300003   77432800   \n",
       "2022-12-21  132.979996  136.809998  132.750000  135.449997   85859600   \n",
       "2022-12-22  134.352005  134.550003  131.134995  131.679993   24354454   \n",
       "\n",
       "            Dividends  Stock Splits  \n",
       "Date                                 \n",
       "2022-12-16        0.0             0  \n",
       "2022-12-19        0.0             0  \n",
       "2022-12-20        0.0             0  \n",
       "2022-12-21        0.0             0  \n",
       "2022-12-22        0.0             0  "
      ]
     },
     "execution_count": 80,
     "metadata": {},
     "output_type": "execute_result"
    }
   ],
   "source": [
    "aapl.options\n",
    "opt = aapl.option_chain('2023-02-17')\n",
    "ohlc = aapl.history(period='12mo', interval='1d')\n",
    "ohlc.tail()"
   ]
  },
  {
   "attachments": {},
   "cell_type": "markdown",
   "metadata": {},
   "source": [
    "## Calculate log-return annualized volatility"
   ]
  },
  {
   "cell_type": "code",
   "execution_count": 64,
   "metadata": {},
   "outputs": [
    {
     "data": {
      "text/plain": [
       "0.35367259746264473"
      ]
     },
     "execution_count": 64,
     "metadata": {},
     "output_type": "execute_result"
    }
   ],
   "source": [
    "# ohlc.Close[1:] / ohlc.Close[0:len(ohlc)-1]\n",
    "np.std(np.log(ohlc.Close[1:].values / ohlc.Close[0:len(ohlc)-1].values))*np.sqrt(252)"
   ]
  },
  {
   "cell_type": "code",
   "execution_count": 67,
   "metadata": {},
   "outputs": [
    {
     "data": {
      "text/plain": [
       "[<matplotlib.lines.Line2D at 0x176509f0400>]"
      ]
     },
     "execution_count": 67,
     "metadata": {},
     "output_type": "execute_result"
    },
    {
     "data": {
      "image/png": "[encoded data removed]",
      "text/plain": [
       "<Figure size 432x288 with 1 Axes>"
      ]
     },
     "metadata": {
      "needs_background": "light"
     },
     "output_type": "display_data"
    }
   ],
   "source": [
    "# plt.plot(ohlc.Close)\n",
    "plt.plot(np.log(ohlc.Close[1:].values / ohlc.Close[0:len(ohlc)-1].values))"
   ]
  },
  {
   "cell_type": "code",
   "execution_count": 72,
   "metadata": {},
   "outputs": [
    {
     "data": {
      "text/plain": [
       "Text(0.5, 1.0, 'Implied Volatility - AAPL Calls as of 2022-12-22')"
      ]
     },
     "execution_count": 72,
     "metadata": {},
     "output_type": "execute_result"
    },
    {
     "data": {
      "image/png": "[encoded data removed]",
      "text/plain": [
       "<Figure size 432x288 with 1 Axes>"
      ]
     },
     "metadata": {
      "needs_background": "light"
     },
     "output_type": "display_data"
    }
   ],
   "source": [
    "plt.plot(opt.calls.impliedVolatility)\n",
    "plt.title(\"Implied Volatility - AAPL Calls as of 2022-12-22\")"
   ]
  },
  {
   "attachments": {},
   "cell_type": "markdown",
   "metadata": {},
   "source": [
    "## Results"
   ]
  },
  {
   "cell_type": "code",
   "execution_count": 94,
   "metadata": {},
   "outputs": [
    {
     "data": {
      "text/html": [
       "<div>\n",
       "<style scoped>\n",
       "    .dataframe tbody tr th:only-of-type {\n",
       "        vertical-align: middle;\n",
       "    }\n",
       "\n",
       "    .dataframe tbody tr th {\n",
       "        vertical-align: top;\n",
       "    }\n",
       "\n",
       "    .dataframe thead th {\n",
       "        text-align: right;\n",
       "    }\n",
       "</style>\n",
       "<table border=\"1\" class=\"dataframe\">\n",
       "  <thead>\n",
       "    <tr style=\"text-align: right;\">\n",
       "      <th></th>\n",
       "      <th>contractSymbol</th>\n",
       "      <th>lastTradeDate</th>\n",
       "      <th>strike</th>\n",
       "      <th>lastPrice</th>\n",
       "      <th>bid</th>\n",
       "      <th>ask</th>\n",
       "      <th>change</th>\n",
       "      <th>percentChange</th>\n",
       "      <th>volume</th>\n",
       "      <th>openInterest</th>\n",
       "      <th>impliedVolatility</th>\n",
       "      <th>inTheMoney</th>\n",
       "      <th>contractSize</th>\n",
       "      <th>currency</th>\n",
       "    </tr>\n",
       "  </thead>\n",
       "  <tbody>\n",
       "    <tr>\n",
       "      <th>16</th>\n",
       "      <td>AAPL230217P00125000</td>\n",
       "      <td>2022-12-22 15:55:41+00:00</td>\n",
       "      <td>125.0</td>\n",
       "      <td>4.80</td>\n",
       "      <td>4.75</td>\n",
       "      <td>4.80</td>\n",
       "      <td>1.180000</td>\n",
       "      <td>32.596695</td>\n",
       "      <td>987.0</td>\n",
       "      <td>23185</td>\n",
       "      <td>0.376715</td>\n",
       "      <td>False</td>\n",
       "      <td>REGULAR</td>\n",
       "      <td>USD</td>\n",
       "    </tr>\n",
       "    <tr>\n",
       "      <th>17</th>\n",
       "      <td>AAPL230217P00130000</td>\n",
       "      <td>2022-12-22 15:55:09+00:00</td>\n",
       "      <td>130.0</td>\n",
       "      <td>6.65</td>\n",
       "      <td>6.60</td>\n",
       "      <td>6.65</td>\n",
       "      <td>1.520000</td>\n",
       "      <td>29.629630</td>\n",
       "      <td>1878.0</td>\n",
       "      <td>37959</td>\n",
       "      <td>0.358649</td>\n",
       "      <td>False</td>\n",
       "      <td>REGULAR</td>\n",
       "      <td>USD</td>\n",
       "    </tr>\n",
       "    <tr>\n",
       "      <th>18</th>\n",
       "      <td>AAPL230217P00135000</td>\n",
       "      <td>2022-12-22 15:53:32+00:00</td>\n",
       "      <td>135.0</td>\n",
       "      <td>8.90</td>\n",
       "      <td>8.90</td>\n",
       "      <td>8.95</td>\n",
       "      <td>1.800000</td>\n",
       "      <td>25.352108</td>\n",
       "      <td>714.0</td>\n",
       "      <td>22421</td>\n",
       "      <td>0.338141</td>\n",
       "      <td>True</td>\n",
       "      <td>REGULAR</td>\n",
       "      <td>USD</td>\n",
       "    </tr>\n",
       "    <tr>\n",
       "      <th>19</th>\n",
       "      <td>AAPL230217P00140000</td>\n",
       "      <td>2022-12-22 15:50:15+00:00</td>\n",
       "      <td>140.0</td>\n",
       "      <td>11.77</td>\n",
       "      <td>11.80</td>\n",
       "      <td>11.90</td>\n",
       "      <td>2.270001</td>\n",
       "      <td>23.894741</td>\n",
       "      <td>229.0</td>\n",
       "      <td>25823</td>\n",
       "      <td>0.322394</td>\n",
       "      <td>True</td>\n",
       "      <td>REGULAR</td>\n",
       "      <td>USD</td>\n",
       "    </tr>\n",
       "    <tr>\n",
       "      <th>20</th>\n",
       "      <td>AAPL230217P00145000</td>\n",
       "      <td>2022-12-22 15:53:42+00:00</td>\n",
       "      <td>145.0</td>\n",
       "      <td>15.18</td>\n",
       "      <td>15.20</td>\n",
       "      <td>15.35</td>\n",
       "      <td>2.700001</td>\n",
       "      <td>21.634620</td>\n",
       "      <td>67.0</td>\n",
       "      <td>20667</td>\n",
       "      <td>0.303718</td>\n",
       "      <td>True</td>\n",
       "      <td>REGULAR</td>\n",
       "      <td>USD</td>\n",
       "    </tr>\n",
       "  </tbody>\n",
       "</table>\n",
       "</div>"
      ],
      "text/plain": [
       "         contractSymbol             lastTradeDate  strike  lastPrice    bid  \\\n",
       "16  AAPL230217P00125000 2022-12-22 15:55:41+00:00   125.0       4.80   4.75   \n",
       "17  AAPL230217P00130000 2022-12-22 15:55:09+00:00   130.0       6.65   6.60   \n",
       "18  AAPL230217P00135000 2022-12-22 15:53:32+00:00   135.0       8.90   8.90   \n",
       "19  AAPL230217P00140000 2022-12-22 15:50:15+00:00   140.0      11.77  11.80   \n",
       "20  AAPL230217P00145000 2022-12-22 15:53:42+00:00   145.0      15.18  15.20   \n",
       "\n",
       "      ask    change  percentChange  volume  openInterest  impliedVolatility  \\\n",
       "16   4.80  1.180000      32.596695   987.0         23185           0.376715   \n",
       "17   6.65  1.520000      29.629630  1878.0         37959           0.358649   \n",
       "18   8.95  1.800000      25.352108   714.0         22421           0.338141   \n",
       "19  11.90  2.270001      23.894741   229.0         25823           0.322394   \n",
       "20  15.35  2.700001      21.634620    67.0         20667           0.303718   \n",
       "\n",
       "    inTheMoney contractSize currency  \n",
       "16       False      REGULAR      USD  \n",
       "17       False      REGULAR      USD  \n",
       "18        True      REGULAR      USD  \n",
       "19        True      REGULAR      USD  \n",
       "20        True      REGULAR      USD  "
      ]
     },
     "execution_count": 94,
     "metadata": {},
     "output_type": "execute_result"
    }
   ],
   "source": [
    "opt.puts.iloc[16:21,:]"
   ]
  },
  {
   "cell_type": "code",
   "execution_count": 103,
   "metadata": {},
   "outputs": [
    {
     "data": {
      "text/plain": [
       "array([[ 4.775, 12.225],\n",
       "       [ 6.625,  9.075],\n",
       "       [ 8.925,  6.4  ],\n",
       "       [11.85 ,  4.275],\n",
       "       [15.275,  2.755]])"
      ]
     },
     "execution_count": 103,
     "metadata": {},
     "output_type": "execute_result"
    }
   ],
   "source": [
    "actual_put = (opt.puts.iloc[16:21,:][\"bid\"].values + opt.puts.iloc[16:21,:][\"ask\"].values)/2\n",
    "actual_call = (opt.calls.iloc[16:21,:][\"bid\"].values + opt.calls.iloc[16:21,:][\"ask\"].values)/2\n",
    "actuals = np.array([actual_put, actual_call]).T\n",
    "actuals"
   ]
  },
  {
   "cell_type": "code",
   "execution_count": 104,
   "metadata": {},
   "outputs": [],
   "source": [
    "sig = np.std(np.log(ohlc.Close[1:].values / ohlc.Close[0:len(ohlc)-1].values))*np.sqrt(252)   # .35367\n",
    "nsims = 10000\n",
    "S0 = 131.679\n",
    "T = .226\n",
    "discrete_freq = 252\n",
    "OP_TYPE = \"call\"\n",
    "K = 140.0\n",
    "r = .0368\n",
    "POLY_DEGREE = 5"
   ]
  },
  {
   "cell_type": "code",
   "execution_count": 105,
   "metadata": {},
   "outputs": [],
   "source": [
    "lsm = []\n",
    "for i in range(120, 145, 5):\n",
    "    put_price = lsm_pricer(\"ap\", nsims, S0, i, r, sig, T, discrete_freq, POLY_DEGREE)\n",
    "    call_price = lsm_pricer(\"ac\", nsims, S0, i, r, sig, T, discrete_freq, POLY_DEGREE)\n",
    "    lsm.append((put_price, call_price))\n",
    "    # print(\"LSM MC American Put \",str(i),\"): \", put_price)\n",
    "    # print(\"LSM MC American call \",str(i), \"):\", call_price)\n",
    "lsm = np.array(lsm)\n",
    "\n",
    "bt = []\n",
    "for i in range(120, 145, 5):\n",
    "    # Without control variates\n",
    "    put_price = btree_pricer(S0, i, sig, r, T, 1000, \"ap\")\n",
    "    call_price = btree_pricer(S0, i, sig, r, T, 1000, \"ac\")\n",
    "    bt.append((put_price, call_price))\n",
    "    # print(\"BT American Put (\",str(i),\"):\", put_price)\n",
    "    # print(\"BT American call (\",str(i), \"):\", call_price)\n",
    "bt = np.array(bt)"
   ]
  },
  {
   "cell_type": "code",
   "execution_count": 112,
   "metadata": {},
   "outputs": [
    {
     "data": {
      "text/plain": [
       "array([[ 3.55460343, 16.20025431],\n",
       "       [ 5.29683228, 12.96637245],\n",
       "       [ 7.4943044 , 10.17952182],\n",
       "       [10.13931298,  7.82940191],\n",
       "       [13.23821219,  5.92451275]])"
      ]
     },
     "execution_count": 112,
     "metadata": {},
     "output_type": "execute_result"
    }
   ],
   "source": [
    "bt"
   ]
  },
  {
   "cell_type": "code",
   "execution_count": 119,
   "metadata": {},
   "outputs": [],
   "source": [
    "pd.DataFrame(np.hstack(np.array([actuals, lsm, bt]))).to_excel(\"aapl_recent_calculation.xlsx\")"
   ]
  },
  {
   "cell_type": "code",
   "execution_count": 106,
   "metadata": {},
   "outputs": [],
   "source": [
    "fnsims = []\n",
    "for i in range(1000, 10000, 500):\n",
    "    # put_price = lsm_pricer(\"ap\", i, S0, K, r, sig, T, discrete_freq, POLY_DEGREE)\n",
    "    call_price = lsm_pricer(\"ac\", i, S0, K, r, sig, T, discrete_freq, POLY_DEGREE)\n",
    "    put_price = lsm_pricer(\"ap\", i, S0, K, r, sig, T, discrete_freq, POLY_DEGREE)\n",
    "    fnsims.append((put_price, call_price))\n",
    "fnsims = np.array(fnsims)"
   ]
  },
  {
   "cell_type": "code",
   "execution_count": 108,
   "metadata": {},
   "outputs": [
    {
     "data": {
      "text/plain": [
       "array([[13.29442095,  6.18356414],\n",
       "       [13.7230524 ,  5.95985839],\n",
       "       [13.30781465,  6.09500737],\n",
       "       [13.11003361,  5.75625375],\n",
       "       [13.22589103,  5.69510796],\n",
       "       [13.19839027,  6.08390127],\n",
       "       [13.19693725,  5.65449675],\n",
       "       [13.0801784 ,  5.70624802],\n",
       "       [13.20208093,  6.13188839],\n",
       "       [13.21538251,  5.82814577],\n",
       "       [13.33388367,  5.74426305],\n",
       "       [13.33433845,  5.76839753],\n",
       "       [13.02505792,  5.48337994],\n",
       "       [13.23225139,  5.83841184],\n",
       "       [13.15351989,  5.77957346],\n",
       "       [13.02650123,  5.80425121],\n",
       "       [13.35433604,  5.68292748],\n",
       "       [13.38333957,  5.71924375]])"
      ]
     },
     "execution_count": 108,
     "metadata": {},
     "output_type": "execute_result"
    }
   ],
   "source": [
    "fnsims"
   ]
  },
  {
   "cell_type": "code",
   "execution_count": 121,
   "metadata": {},
   "outputs": [
    {
     "data": {
      "image/png": "[encoded data removed]",
      "text/plain": [
       "<Figure size 432x288 with 1 Axes>"
      ]
     },
     "metadata": {
      "needs_background": "light"
     },
     "output_type": "display_data"
    }
   ],
   "source": [
    "# put and call error vs num sims\n",
    "plt.plot(fnsims - actuals[3])\n",
    "plt.legend([\"Put\", \"Call\"])\n",
    "plt.title(\"LSM MC Error vs Num Sims (1k to 100k)\")\n",
    "plt.show()"
   ]
  },
  {
   "cell_type": "code",
   "execution_count": 122,
   "metadata": {},
   "outputs": [],
   "source": [
    "fntree = []\n",
    "for i in range(12, 4000, 10):\n",
    "    # put_price = lsm_pricer(\"ap\", i, S0, K, r, sig, T, discrete_freq, POLY_DEGREE)\n",
    "    call_price = btree_pricer(S0, K, sig, r, T, i, \"ac\")\n",
    "    put_price = btree_pricer(S0, K, sig, r, T, i, \"ap\")\n",
    "    fntree.append((put_price, call_price))\n",
    "fntree = np.array(fntree)"
   ]
  },
  {
   "cell_type": "code",
   "execution_count": 123,
   "metadata": {},
   "outputs": [
    {
     "data": {
      "image/png": "[encoded data removed]",
      "text/plain": [
       "<Figure size 432x288 with 1 Axes>"
      ]
     },
     "metadata": {
      "needs_background": "light"
     },
     "output_type": "display_data"
    }
   ],
   "source": [
    "# put and call error vs num sims\n",
    "plt.plot(fntree - actuals[3])\n",
    "plt.legend([\"Put\", \"Call\"])\n",
    "plt.title(\"BinomTree Error vs Num Sims (3 to 1000)\")\n",
    "plt.show()"
   ]
  },
  {
   "cell_type": "code",
   "execution_count": 125,
   "metadata": {},
   "outputs": [
    {
     "data": {
      "image/png": "[encoded data removed]",
      "text/plain": [
       "<Figure size 432x288 with 1 Axes>"
      ]
     },
     "metadata": {
      "needs_background": "light"
     },
     "output_type": "display_data"
    }
   ],
   "source": [
    "plt.plot(fntree)\n",
    "plt.plot(fnsims)\n",
    "plt.title(\"BinomTree vs LSM MC - Price Convergence\")\n",
    "plt.legend([\"Call\", \"Put\"])\n",
    "plt.show()"
   ]
  }
 ],
 "metadata": {
  "kernelspec": {
   "display_name": "Python 3",
   "language": "python",
   "name": "python3"
  },
  "language_info": {
   "codemirror_mode": {
    "name": "ipython",
    "version": 3
   },
   "file_extension": ".py",
   "mimetype": "text/x-python",
   "name": "python",
   "nbconvert_exporter": "python",
   "pygments_lexer": "ipython3",
   "version": "3.8.6 (tags/v3.8.6:db45529, Sep 23 2020, 15:52:53) [MSC v.1927 64 bit (AMD64)]"
  },
  "orig_nbformat": 4,
  "vscode": {
   "interpreter": {
    "hash": "0bb75c20e1280d7c7443a0a37d938ae35e6dac5d0c3dfd0ff98a286ed926c26c"
   }
  }
 },
 "nbformat": 4,
 "nbformat_minor": 2
}
