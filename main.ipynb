{
 "cells": [
  {
   "cell_type": "markdown",
   "metadata": {},
   "source": [
    "### Import libraries"
   ]
  },
  {
   "cell_type": "code",
   "execution_count": 1,
   "metadata": {},
   "outputs": [],
   "source": [
    "import numpy as np\n",
    "import pandas as pd\n",
    "import matplotlib.pyplot as plt\n",
    "\n",
    "from LSMPricing import lsm_pricer\n",
    "from BinomialTreePricing import btree_pricer\n",
    "from BSAnalyticalPricing import BSAnalytical\n",
    "from MonteCarlo import simulate_gbm_paths"
   ]
  },
  {
   "cell_type": "markdown",
   "metadata": {},
   "source": [
    "### Input params"
   ]
  },
  {
   "cell_type": "code",
   "execution_count": 2,
   "metadata": {},
   "outputs": [],
   "source": [
    "# Simulation Parameters\n",
    "nsims, S0, sig, T, discrete_freq = 20000, 100, .25, 1, 252\n",
    "# Option Parameters\n",
    "OP_TYPE, K, r, POLY_DEGREE = \"put\", 120, .06, 5"
   ]
  },
  {
   "cell_type": "markdown",
   "metadata": {},
   "source": [
    "### LSM Monte Carlo Pricing of American Call & Put"
   ]
  },
  {
   "cell_type": "markdown",
   "metadata": {},
   "source": [
    "###### Why does LSM always underestimate the call price, but the put price is correct?"
   ]
  },
  {
   "cell_type": "code",
   "execution_count": 3,
   "metadata": {},
   "outputs": [
    {
     "name": "stdout",
     "output_type": "stream",
     "text": [
      "American Put:  20.77234456319128\n",
      "American call:  5.084401743369762\n"
     ]
    }
   ],
   "source": [
    "put_price = lsm_pricer(\"ap\", nsims, S0, K, r, sig, T, discrete_freq, POLY_DEGREE)\n",
    "call_price = lsm_pricer(\"ac\", nsims, S0, K, r, sig, T, discrete_freq, POLY_DEGREE)\n",
    "print(\"American Put: \", put_price)\n",
    "print(\"American call: \", call_price)"
   ]
  },
  {
   "cell_type": "markdown",
   "metadata": {},
   "source": [
    "### Binomial Tree Pricing of American Call & Put"
   ]
  },
  {
   "cell_type": "code",
   "execution_count": 4,
   "metadata": {},
   "outputs": [
    {
     "name": "stdout",
     "output_type": "stream",
     "text": [
      "American Put:  20.870549599324622\n",
      "American call:  5.325554911005737\n"
     ]
    }
   ],
   "source": [
    "# Without control variates\n",
    "put_price = btree_pricer(S0, K, sig, r, T, 1000, \"ap\")\n",
    "call_price = btree_pricer(S0, K, sig, r, T, 1000, \"ac\")\n",
    "print(\"American Put: \", put_price)\n",
    "print(\"American call: \", call_price)"
   ]
  },
  {
   "cell_type": "code",
   "execution_count": 5,
   "metadata": {},
   "outputs": [
    {
     "name": "stdout",
     "output_type": "stream",
     "text": [
      "American Put:  20.911574324350063\n",
      "American call:  5.324068583787735\n"
     ]
    }
   ],
   "source": [
    "# With control variates\n",
    "put_price = btree_pricer(S0, K, sig, r, T, 6, \"ap\") + (BSAnalytical(\"put\", S0, K, T, r, sig) - btree_pricer(S0, K, sig, r, T, 6, \"ep\"))\n",
    "call_price = btree_pricer(S0, K, sig, r, T, 3, \"ac\") + (BSAnalytical(\"call\", S0, K, T, r, sig) - btree_pricer(S0, K, sig, r, T, 3, \"ec\"))\n",
    "print(\"American Put: \", put_price)\n",
    "print(\"American call: \", call_price)"
   ]
  },
  {
   "cell_type": "code",
   "execution_count": 5,
   "metadata": {},
   "outputs": [],
   "source": [
    "d1 = (np.log(54/55) + (.05 + .22**2 * .5)*.25)/(.22 * np.sqrt(.25))\n",
    "d2 = d1 - .22 * np.sqrt(.25)"
   ]
  },
  {
   "cell_type": "code",
   "execution_count": null,
   "metadata": {},
   "outputs": [],
   "source": []
  }
 ],
 "metadata": {
  "kernelspec": {
   "display_name": "Python 3.8.6 64-bit",
   "language": "python",
   "name": "python3"
  },
  "language_info": {
   "codemirror_mode": {
    "name": "ipython",
    "version": 3
   },
   "file_extension": ".py",
   "mimetype": "text/x-python",
   "name": "python",
   "nbconvert_exporter": "python",
   "pygments_lexer": "ipython3",
   "version": "3.8.6 (tags/v3.8.6:db45529, Sep 23 2020, 15:52:53) [MSC v.1927 64 bit (AMD64)]"
  },
  "orig_nbformat": 4,
  "vscode": {
   "interpreter": {
    "hash": "0bb75c20e1280d7c7443a0a37d938ae35e6dac5d0c3dfd0ff98a286ed926c26c"
   }
  }
 },
 "nbformat": 4,
 "nbformat_minor": 2
}
