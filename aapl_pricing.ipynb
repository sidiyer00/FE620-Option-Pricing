{
 "cells": [
  {
   "cell_type": "markdown",
   "metadata": {},
   "source": [
    "### Library Import"
   ]
  },
  {
   "cell_type": "code",
   "execution_count": 1,
   "metadata": {},
   "outputs": [],
   "source": [
    "import pandas as pd\n",
    "import numpy as np\n",
    "import os\n",
    "import matplotlib.pyplot as plt\n",
    "from yahoofinancials import YahooFinancials\n",
    "\n",
    "from LSMPricing import lsm_pricer\n",
    "from BinomialTreePricing import btree_pricer\n",
    "from BSAnalyticalPricing import BSAnalytical\n",
    "from MonteCarlo import simulate_gbm_paths"
   ]
  },
  {
   "cell_type": "markdown",
   "metadata": {},
   "source": [
    "### AAPL Option Chain Data Import"
   ]
  },
  {
   "cell_type": "code",
   "execution_count": 2,
   "metadata": {},
   "outputs": [],
   "source": [
    "currentdir = os.getcwd()\n",
    "targetdir = currentdir + \"\\\\aapl_eod_2019-ubqxfb\"\n",
    "files = os.listdir(targetdir)\n",
    "\n",
    "data = pd.read_csv(targetdir + \"\\\\\"+files[0], sep=\",\", low_memory=False)\n",
    "for i in range(1, len(files)):\n",
    "    data = pd.concat([data, pd.read_csv(targetdir + \"\\\\\"+files[i], sep=\",\", low_memory=False)])\n",
    "data.reset_index(inplace=True)"
   ]
  },
  {
   "cell_type": "code",
   "execution_count": 3,
   "metadata": {},
   "outputs": [
    {
     "data": {
      "text/html": [
       "<div>\n",
       "<style scoped>\n",
       "    .dataframe tbody tr th:only-of-type {\n",
       "        vertical-align: middle;\n",
       "    }\n",
       "\n",
       "    .dataframe tbody tr th {\n",
       "        vertical-align: top;\n",
       "    }\n",
       "\n",
       "    .dataframe thead th {\n",
       "        text-align: right;\n",
       "    }\n",
       "</style>\n",
       "<table border=\"1\" class=\"dataframe\">\n",
       "  <thead>\n",
       "    <tr style=\"text-align: right;\">\n",
       "      <th></th>\n",
       "      <th>index</th>\n",
       "      <th>[QUOTE_UNIXTIME]</th>\n",
       "      <th>[QUOTE_READTIME]</th>\n",
       "      <th>[QUOTE_DATE]</th>\n",
       "      <th>[QUOTE_TIME_HOURS]</th>\n",
       "      <th>[UNDERLYING_LAST]</th>\n",
       "      <th>[EXPIRE_DATE]</th>\n",
       "      <th>[EXPIRE_UNIX]</th>\n",
       "      <th>[DTE]</th>\n",
       "      <th>[C_DELTA]</th>\n",
       "      <th>...</th>\n",
       "      <th>[P_LAST]</th>\n",
       "      <th>[P_DELTA]</th>\n",
       "      <th>[P_GAMMA]</th>\n",
       "      <th>[P_VEGA]</th>\n",
       "      <th>[P_THETA]</th>\n",
       "      <th>[P_RHO]</th>\n",
       "      <th>[P_IV]</th>\n",
       "      <th>[P_VOLUME]</th>\n",
       "      <th>[STRIKE_DISTANCE]</th>\n",
       "      <th>[STRIKE_DISTANCE_PCT]</th>\n",
       "    </tr>\n",
       "  </thead>\n",
       "  <tbody>\n",
       "    <tr>\n",
       "      <th>0</th>\n",
       "      <td>0</td>\n",
       "      <td>1546462800</td>\n",
       "      <td>2019-01-02 16:00</td>\n",
       "      <td>2019-01-02</td>\n",
       "      <td>16.0</td>\n",
       "      <td>157.92</td>\n",
       "      <td>2019-01-04</td>\n",
       "      <td>1546635600</td>\n",
       "      <td>2.0</td>\n",
       "      <td>0.90886</td>\n",
       "      <td>...</td>\n",
       "      <td>0.01</td>\n",
       "      <td>-0.00034</td>\n",
       "      <td>0.00011</td>\n",
       "      <td>0.00079</td>\n",
       "      <td>-0.00509</td>\n",
       "      <td>-0.00041</td>\n",
       "      <td>1.625550</td>\n",
       "      <td>0.000000</td>\n",
       "      <td>57.9</td>\n",
       "      <td>0.367</td>\n",
       "    </tr>\n",
       "    <tr>\n",
       "      <th>1</th>\n",
       "      <td>1</td>\n",
       "      <td>1546462800</td>\n",
       "      <td>2019-01-02 16:00</td>\n",
       "      <td>2019-01-02</td>\n",
       "      <td>16.0</td>\n",
       "      <td>157.92</td>\n",
       "      <td>2019-01-04</td>\n",
       "      <td>1546635600</td>\n",
       "      <td>2.0</td>\n",
       "      <td>1.00000</td>\n",
       "      <td>...</td>\n",
       "      <td>0.01</td>\n",
       "      <td>-0.00069</td>\n",
       "      <td>0.00010</td>\n",
       "      <td>0.00039</td>\n",
       "      <td>-0.00518</td>\n",
       "      <td>-0.00010</td>\n",
       "      <td>1.461900</td>\n",
       "      <td>200.000000</td>\n",
       "      <td>52.9</td>\n",
       "      <td>0.335</td>\n",
       "    </tr>\n",
       "    <tr>\n",
       "      <th>2</th>\n",
       "      <td>2</td>\n",
       "      <td>1546462800</td>\n",
       "      <td>2019-01-02 16:00</td>\n",
       "      <td>2019-01-02</td>\n",
       "      <td>16.0</td>\n",
       "      <td>157.92</td>\n",
       "      <td>2019-01-04</td>\n",
       "      <td>1546635600</td>\n",
       "      <td>2.0</td>\n",
       "      <td>1.00000</td>\n",
       "      <td>...</td>\n",
       "      <td>0.04</td>\n",
       "      <td>-0.00066</td>\n",
       "      <td>0.00020</td>\n",
       "      <td>0.00000</td>\n",
       "      <td>-0.00425</td>\n",
       "      <td>-0.00009</td>\n",
       "      <td>1.305490</td>\n",
       "      <td>706.000000</td>\n",
       "      <td>47.9</td>\n",
       "      <td>0.303</td>\n",
       "    </tr>\n",
       "    <tr>\n",
       "      <th>3</th>\n",
       "      <td>3</td>\n",
       "      <td>1546462800</td>\n",
       "      <td>2019-01-02 16:00</td>\n",
       "      <td>2019-01-02</td>\n",
       "      <td>16.0</td>\n",
       "      <td>157.92</td>\n",
       "      <td>2019-01-04</td>\n",
       "      <td>1546635600</td>\n",
       "      <td>2.0</td>\n",
       "      <td>1.00000</td>\n",
       "      <td>...</td>\n",
       "      <td>0.01</td>\n",
       "      <td>-0.00120</td>\n",
       "      <td>0.00021</td>\n",
       "      <td>0.00089</td>\n",
       "      <td>-0.00434</td>\n",
       "      <td>-0.00005</td>\n",
       "      <td>1.155130</td>\n",
       "      <td>0.000000</td>\n",
       "      <td>42.9</td>\n",
       "      <td>0.272</td>\n",
       "    </tr>\n",
       "    <tr>\n",
       "      <th>4</th>\n",
       "      <td>4</td>\n",
       "      <td>1546462800</td>\n",
       "      <td>2019-01-02 16:00</td>\n",
       "      <td>2019-01-02</td>\n",
       "      <td>16.0</td>\n",
       "      <td>157.92</td>\n",
       "      <td>2019-01-04</td>\n",
       "      <td>1546635600</td>\n",
       "      <td>2.0</td>\n",
       "      <td>1.00000</td>\n",
       "      <td>...</td>\n",
       "      <td>0.01</td>\n",
       "      <td>-0.00109</td>\n",
       "      <td>0.00024</td>\n",
       "      <td>0.00045</td>\n",
       "      <td>-0.00429</td>\n",
       "      <td>-0.00020</td>\n",
       "      <td>1.010620</td>\n",
       "      <td>0.000000</td>\n",
       "      <td>37.9</td>\n",
       "      <td>0.240</td>\n",
       "    </tr>\n",
       "  </tbody>\n",
       "</table>\n",
       "<p>5 rows × 34 columns</p>\n",
       "</div>"
      ],
      "text/plain": [
       "   index  [QUOTE_UNIXTIME]   [QUOTE_READTIME]  [QUOTE_DATE]  \\\n",
       "0      0        1546462800   2019-01-02 16:00    2019-01-02   \n",
       "1      1        1546462800   2019-01-02 16:00    2019-01-02   \n",
       "2      2        1546462800   2019-01-02 16:00    2019-01-02   \n",
       "3      3        1546462800   2019-01-02 16:00    2019-01-02   \n",
       "4      4        1546462800   2019-01-02 16:00    2019-01-02   \n",
       "\n",
       "    [QUOTE_TIME_HOURS]   [UNDERLYING_LAST]  [EXPIRE_DATE]   [EXPIRE_UNIX]  \\\n",
       "0                 16.0              157.92     2019-01-04      1546635600   \n",
       "1                 16.0              157.92     2019-01-04      1546635600   \n",
       "2                 16.0              157.92     2019-01-04      1546635600   \n",
       "3                 16.0              157.92     2019-01-04      1546635600   \n",
       "4                 16.0              157.92     2019-01-04      1546635600   \n",
       "\n",
       "    [DTE]   [C_DELTA]  ...   [P_LAST]   [P_DELTA]   [P_GAMMA]   [P_VEGA]  \\\n",
       "0     2.0     0.90886  ...       0.01    -0.00034     0.00011    0.00079   \n",
       "1     2.0     1.00000  ...       0.01    -0.00069     0.00010    0.00039   \n",
       "2     2.0     1.00000  ...       0.04    -0.00066     0.00020    0.00000   \n",
       "3     2.0     1.00000  ...       0.01    -0.00120     0.00021    0.00089   \n",
       "4     2.0     1.00000  ...       0.01    -0.00109     0.00024    0.00045   \n",
       "\n",
       "   [P_THETA]  [P_RHO]     [P_IV]   [P_VOLUME]  [STRIKE_DISTANCE]  \\\n",
       "0   -0.00509 -0.00041   1.625550     0.000000               57.9   \n",
       "1   -0.00518 -0.00010   1.461900   200.000000               52.9   \n",
       "2   -0.00425 -0.00009   1.305490   706.000000               47.9   \n",
       "3   -0.00434 -0.00005   1.155130     0.000000               42.9   \n",
       "4   -0.00429 -0.00020   1.010620     0.000000               37.9   \n",
       "\n",
       "   [STRIKE_DISTANCE_PCT]  \n",
       "0                  0.367  \n",
       "1                  0.335  \n",
       "2                  0.303  \n",
       "3                  0.272  \n",
       "4                  0.240  \n",
       "\n",
       "[5 rows x 34 columns]"
      ]
     },
     "execution_count": 3,
     "metadata": {},
     "output_type": "execute_result"
    }
   ],
   "source": [
    "data.head()"
   ]
  },
  {
   "cell_type": "code",
   "execution_count": 4,
   "metadata": {},
   "outputs": [
    {
     "data": {
      "text/plain": [
       "Index(['index', '[QUOTE_UNIXTIME]', ' [QUOTE_READTIME]', ' [QUOTE_DATE]',\n",
       "       ' [QUOTE_TIME_HOURS]', ' [UNDERLYING_LAST]', ' [EXPIRE_DATE]',\n",
       "       ' [EXPIRE_UNIX]', ' [DTE]', ' [C_DELTA]', ' [C_GAMMA]', ' [C_VEGA]',\n",
       "       ' [C_THETA]', ' [C_RHO]', ' [C_IV]', ' [C_VOLUME]', ' [C_LAST]',\n",
       "       ' [C_SIZE]', ' [C_BID]', ' [C_ASK]', ' [STRIKE]', ' [P_BID]',\n",
       "       ' [P_ASK]', ' [P_SIZE]', ' [P_LAST]', ' [P_DELTA]', ' [P_GAMMA]',\n",
       "       ' [P_VEGA]', ' [P_THETA]', ' [P_RHO]', ' [P_IV]', ' [P_VOLUME]',\n",
       "       ' [STRIKE_DISTANCE]', ' [STRIKE_DISTANCE_PCT]'],\n",
       "      dtype='object')"
      ]
     },
     "execution_count": 4,
     "metadata": {},
     "output_type": "execute_result"
    }
   ],
   "source": [
    "data.columns"
   ]
  },
  {
   "cell_type": "code",
   "execution_count": 5,
   "metadata": {},
   "outputs": [
    {
     "name": "stderr",
     "output_type": "stream",
     "text": [
      "C:\\Users\\sidiy\\AppData\\Local\\Temp/ipykernel_15600/3258823540.py:5: UserWarning: Boolean Series key will be reindexed to match DataFrame index.\n",
      "  first_day_3m_options[first_day_options[\" [STRIKE]\"] == 130][\" [P_IV]\"]\n"
     ]
    },
    {
     "data": {
      "text/plain": [
       "432     0.409460\n",
       "Name:  [P_IV], dtype: object"
      ]
     },
     "execution_count": 5,
     "metadata": {},
     "output_type": "execute_result"
    }
   ],
   "source": [
    "first_day_options = data[data[\" [QUOTE_DATE]\"] == \" 2019-01-02\"]\n",
    "# np.unique(first_day_options[' [EXPIRE_DATE]'])\n",
    "# first_day_1y_options = first_day_options[first_day_options[\" [EXPIRE_DATE]\"] == ' 2020-01-17']\n",
    "first_day_3m_options = first_day_options[first_day_options[\" [EXPIRE_DATE]\"] == ' 2019-03-15']\n",
    "first_day_3m_options[first_day_options[\" [STRIKE]\"] == 130][\" [P_IV]\"]"
   ]
  },
  {
   "cell_type": "code",
   "execution_count": 49,
   "metadata": {},
   "outputs": [],
   "source": [
    "# first_day_3m_options[[\" [STRIKE_DISTANCE]\", \" [STRIKE]\", \" [C_ASK]\", \" [P_ASK]\", \" [P_IV]\", \" [C_IV]\"]]"
   ]
  },
  {
   "cell_type": "code",
   "execution_count": null,
   "metadata": {},
   "outputs": [],
   "source": [
    "# 665    130.0\n",
    "# 666    135.0\n",
    "# 667    140.0\n",
    "# 668    145.0\n",
    "# 669    150.0\n",
    "# 670    155.0\n",
    "# 671    160.0\n",
    "# 672    165.0\n",
    "# 673    170.0\n",
    "# 674    175.0"
   ]
  },
  {
   "cell_type": "markdown",
   "metadata": {},
   "source": [
    "### Get AAPL Stock Data"
   ]
  },
  {
   "cell_type": "code",
   "execution_count": 19,
   "metadata": {},
   "outputs": [
    {
     "data": {
      "text/html": [
       "<div>\n",
       "<style scoped>\n",
       "    .dataframe tbody tr th:only-of-type {\n",
       "        vertical-align: middle;\n",
       "    }\n",
       "\n",
       "    .dataframe tbody tr th {\n",
       "        vertical-align: top;\n",
       "    }\n",
       "\n",
       "    .dataframe thead th {\n",
       "        text-align: right;\n",
       "    }\n",
       "</style>\n",
       "<table border=\"1\" class=\"dataframe\">\n",
       "  <thead>\n",
       "    <tr style=\"text-align: right;\">\n",
       "      <th></th>\n",
       "      <th>high</th>\n",
       "      <th>low</th>\n",
       "      <th>open</th>\n",
       "      <th>close</th>\n",
       "      <th>volume</th>\n",
       "      <th>adjclose</th>\n",
       "    </tr>\n",
       "    <tr>\n",
       "      <th>formatted_date</th>\n",
       "      <th></th>\n",
       "      <th></th>\n",
       "      <th></th>\n",
       "      <th></th>\n",
       "      <th></th>\n",
       "      <th></th>\n",
       "    </tr>\n",
       "  </thead>\n",
       "  <tbody>\n",
       "    <tr>\n",
       "      <th>2018-01-02</th>\n",
       "      <td>43.075001</td>\n",
       "      <td>42.314999</td>\n",
       "      <td>42.540001</td>\n",
       "      <td>43.064999</td>\n",
       "      <td>102223600</td>\n",
       "      <td>40.950500</td>\n",
       "    </tr>\n",
       "    <tr>\n",
       "      <th>2018-01-03</th>\n",
       "      <td>43.637501</td>\n",
       "      <td>42.990002</td>\n",
       "      <td>43.132500</td>\n",
       "      <td>43.057499</td>\n",
       "      <td>118071600</td>\n",
       "      <td>40.943359</td>\n",
       "    </tr>\n",
       "    <tr>\n",
       "      <th>2018-01-04</th>\n",
       "      <td>43.367500</td>\n",
       "      <td>43.020000</td>\n",
       "      <td>43.134998</td>\n",
       "      <td>43.257500</td>\n",
       "      <td>89738400</td>\n",
       "      <td>41.133537</td>\n",
       "    </tr>\n",
       "    <tr>\n",
       "      <th>2018-01-05</th>\n",
       "      <td>43.842499</td>\n",
       "      <td>43.262501</td>\n",
       "      <td>43.360001</td>\n",
       "      <td>43.750000</td>\n",
       "      <td>94640000</td>\n",
       "      <td>41.601860</td>\n",
       "    </tr>\n",
       "    <tr>\n",
       "      <th>2018-01-08</th>\n",
       "      <td>43.902500</td>\n",
       "      <td>43.482498</td>\n",
       "      <td>43.587502</td>\n",
       "      <td>43.587502</td>\n",
       "      <td>82271200</td>\n",
       "      <td>41.447346</td>\n",
       "    </tr>\n",
       "  </tbody>\n",
       "</table>\n",
       "</div>"
      ],
      "text/plain": [
       "                     high        low       open      close     volume  \\\n",
       "formatted_date                                                          \n",
       "2018-01-02      43.075001  42.314999  42.540001  43.064999  102223600   \n",
       "2018-01-03      43.637501  42.990002  43.132500  43.057499  118071600   \n",
       "2018-01-04      43.367500  43.020000  43.134998  43.257500   89738400   \n",
       "2018-01-05      43.842499  43.262501  43.360001  43.750000   94640000   \n",
       "2018-01-08      43.902500  43.482498  43.587502  43.587502   82271200   \n",
       "\n",
       "                 adjclose  \n",
       "formatted_date             \n",
       "2018-01-02      40.950500  \n",
       "2018-01-03      40.943359  \n",
       "2018-01-04      41.133537  \n",
       "2018-01-05      41.601860  \n",
       "2018-01-08      41.447346  "
      ]
     },
     "execution_count": 19,
     "metadata": {},
     "output_type": "execute_result"
    }
   ],
   "source": [
    "start_date=\"2018-01-01\"\n",
    "end_date=\"2019-01-01\"\n",
    "time_interval=\"daily\"\n",
    "\n",
    "aapl = YahooFinancials(\"AAPL\")\n",
    "aapl = aapl.get_historical_price_data(start_date=start_date, end_date=end_date, time_interval=time_interval)\n",
    "aapl = pd.DataFrame(aapl[\"AAPL\"]['prices'])\n",
    "aapl = aapl.drop('date', axis=1).set_index('formatted_date')\n",
    "aapl.head()"
   ]
  },
  {
   "cell_type": "markdown",
   "metadata": {},
   "source": [
    "### Set Params"
   ]
  },
  {
   "cell_type": "code",
   "execution_count": 51,
   "metadata": {},
   "outputs": [],
   "source": [
    "sig = np.std(aapl[\"adjclose\"].pct_change()[1:])*np.sqrt(len(aapl))\n",
    "nsims = 10000\n",
    "S0 = 157.92\n",
    "T = .25\n",
    "discrete_freq = 252\n",
    "OP_TYPE = \"put\"\n",
    "K = 155.0\n",
    "r = .016\n",
    "POLY_DEGREE = 5"
   ]
  },
  {
   "cell_type": "code",
   "execution_count": 52,
   "metadata": {},
   "outputs": [
    {
     "data": {
      "text/plain": [
       "0.28628315968847334"
      ]
     },
     "execution_count": 52,
     "metadata": {},
     "output_type": "execute_result"
    }
   ],
   "source": [
    "sig"
   ]
  },
  {
   "cell_type": "code",
   "execution_count": 53,
   "metadata": {},
   "outputs": [
    {
     "name": "stdout",
     "output_type": "stream",
     "text": [
      "Actual American Put ( 130 ): 2.005\n",
      "Actual American call ( 130 ): 29.375\n",
      "Actual American Put ( 135 ): 2.745\n",
      "Actual American call ( 135 ): 25.675\n",
      "Actual American Put ( 140 ): 3.6950000000000003\n",
      "Actual American call ( 140 ): 21.655\n",
      "Actual American Put ( 145 ): 4.970000000000001\n",
      "Actual American call ( 145 ): 18.02\n",
      "Actual American Put ( 150 ): 6.605\n",
      "Actual American call ( 150 ): 14.45\n",
      "Actual American Put ( 155 ): 8.55\n",
      "Actual American call ( 155 ): 11.504999999999999\n",
      "Actual American Put ( 160 ): 10.915\n",
      "Actual American call ( 160 ): 8.850000000000001\n",
      "Actual American Put ( 165 ): 13.7\n",
      "Actual American call ( 165 ): 6.65\n",
      "Actual American Put ( 170 ): 16.93\n",
      "Actual American call ( 170 ): 4.845000000000001\n",
      "Actual American Put ( 175 ): 20.549999999999997\n",
      "Actual American call ( 175 ): 3.4000000000000004\n"
     ]
    }
   ],
   "source": [
    "actual = []\n",
    "for i in range(130, 180, 5):\n",
    "    actual_data_op = first_day_3m_options[first_day_3m_options[\" [STRIKE]\"] == i]\n",
    "    actual_call = (float(actual_data_op[' [C_BID]']) + float(actual_data_op[' [C_ASK]']))/2\n",
    "    actual_put = (float(actual_data_op[' [P_BID]']) + float(actual_data_op[' [P_ASK]']))/2\n",
    "    actual.append((actual_put, actual_call))\n",
    "    print(\"Actual American Put (\", str(i), \"):\", actual_put)\n",
    "    print(\"Actual American call (\", str(i), \"):\", actual_call)"
   ]
  },
  {
   "cell_type": "markdown",
   "metadata": {},
   "source": [
    "### Pricing American Options (AAPL) using LSM Monte Carlo"
   ]
  },
  {
   "cell_type": "code",
   "execution_count": 54,
   "metadata": {},
   "outputs": [
    {
     "name": "stdout",
     "output_type": "stream",
     "text": [
      "LSM MC American Put  130 ):  0.7329680282868255\n",
      "LSM MC American call  130 ): 29.2549764256983\n",
      "LSM MC American Put  135 ):  1.2292453986167395\n",
      "LSM MC American call  135 ): 24.815619330370648\n",
      "LSM MC American Put  140 ):  2.1181115681966802\n",
      "LSM MC American call  140 ): 20.357410682559067\n",
      "LSM MC American Put  145 ):  3.2893122450385186\n",
      "LSM MC American call  145 ): 16.5508894068823\n",
      "LSM MC American Put  150 ):  5.078371312602774\n",
      "LSM MC American call  150 ): 13.484968079756445\n",
      "LSM MC American Put  155 ):  7.0921112330569125\n",
      "LSM MC American call  155 ): 10.645335704541372\n",
      "LSM MC American Put  160 ):  9.724487023143281\n",
      "LSM MC American call  160 ): 8.298041972051546\n",
      "LSM MC American Put  165 ):  12.7241279431281\n",
      "LSM MC American call  165 ): 5.966386744633851\n",
      "LSM MC American Put  170 ):  16.08329841246443\n",
      "LSM MC American call  170 ): 4.839336072513305\n",
      "LSM MC American Put  175 ):  20.003089939542633\n",
      "LSM MC American call  175 ): 3.2740447058966806\n"
     ]
    }
   ],
   "source": [
    "lsm = []\n",
    "for i in range(130, 180, 5):\n",
    "    put_price = lsm_pricer(\"ap\", nsims, S0, i, r, sig, T, discrete_freq, POLY_DEGREE)\n",
    "    call_price = lsm_pricer(\"ac\", nsims, S0, i, r, sig, T, discrete_freq, POLY_DEGREE)\n",
    "    lsm.append((put_price, call_price))\n",
    "    print(\"LSM MC American Put \",str(i),\"): \", put_price)\n",
    "    print(\"LSM MC American call \",str(i), \"):\", call_price)"
   ]
  },
  {
   "cell_type": "markdown",
   "metadata": {},
   "source": [
    "### Pricing American Options (AAPL) using BT"
   ]
  },
  {
   "cell_type": "code",
   "execution_count": 55,
   "metadata": {},
   "outputs": [
    {
     "name": "stdout",
     "output_type": "stream",
     "text": [
      "BT American Put ( 130 ): 0.7728291559360388\n",
      "BT American call ( 130 ): 29.209567790849206\n",
      "BT American Put ( 135 ): 1.3700204602893729\n",
      "BT American call ( 135 ): 24.82470576491413\n",
      "BT American Put ( 140 ): 2.2633055672546574\n",
      "BT American call ( 140 ): 20.734550776528117\n",
      "BT American Put ( 145 ): 3.5166312082972744\n",
      "BT American call ( 145 ): 17.002416127277225\n",
      "BT American Put ( 150 ): 5.178014490757213\n",
      "BT American call ( 150 ): 13.675531376979297\n",
      "BT American Put ( 155 ): 7.277187686528576\n",
      "BT American call ( 155 ): 10.783285202882\n",
      "BT American Put ( 160 ): 9.843469324465044\n",
      "BT American call ( 160 ): 8.354432952019847\n",
      "BT American Put ( 165 ): 12.83431059749362\n",
      "BT American call ( 165 ): 6.344364127966241\n",
      "BT American Put ( 170 ): 16.211163299160063\n",
      "BT American call ( 170 ): 4.713416644741785\n",
      "BT American Put ( 175 ): 19.963065458306037\n",
      "BT American call ( 175 ): 3.4533091036828694\n"
     ]
    }
   ],
   "source": [
    "bt = []\n",
    "for i in range(130, 180, 5):\n",
    "    # Without control variates\n",
    "    put_price = btree_pricer(S0, i, sig, r, T, 1000, \"ap\")\n",
    "    call_price = btree_pricer(S0, i, sig, r, T, 1000, \"ac\")\n",
    "    bt.append((put_price, call_price))\n",
    "    print(\"BT American Put (\",str(i),\"):\", put_price)\n",
    "    print(\"BT American call (\",str(i), \"):\", call_price)"
   ]
  },
  {
   "cell_type": "code",
   "execution_count": 40,
   "metadata": {},
   "outputs": [],
   "source": [
    "pd.DataFrame(np.hstack([np.array(actual), np.array(lsm), np.array(bt)])).to_csv(\"actual vs computed.csv\")"
   ]
  },
  {
   "cell_type": "markdown",
   "metadata": {},
   "source": [
    "# Charts"
   ]
  },
  {
   "cell_type": "markdown",
   "metadata": {},
   "source": [
    "##### Error vs Num. Simulations Graph (MC)"
   ]
  },
  {
   "cell_type": "code",
   "execution_count": 56,
   "metadata": {},
   "outputs": [],
   "source": [
    "call_fnsims = []\n",
    "for i in range(1000, 100000, 4000):\n",
    "    # put_price = lsm_pricer(\"ap\", i, S0, K, r, sig, T, discrete_freq, POLY_DEGREE)\n",
    "    call_price = lsm_pricer(\"ac\", i, S0, K, r, sig, T, discrete_freq, POLY_DEGREE)\n",
    "    call_fnsims.append(call_price)"
   ]
  },
  {
   "cell_type": "code",
   "execution_count": 57,
   "metadata": {},
   "outputs": [],
   "source": [
    "put_fnsims = []\n",
    "for i in range(1000, 100000, 4000):\n",
    "    put_price = lsm_pricer(\"ap\", i, S0, K, r, sig, T, discrete_freq, POLY_DEGREE)\n",
    "    # put_price = lsm_pricer(\"ac\", i, S0, K, r, sig, T, discrete_freq, POLY_DEGREE)\n",
    "    put_fnsims.append(put_price)"
   ]
  },
  {
   "cell_type": "code",
   "execution_count": 60,
   "metadata": {},
   "outputs": [
    {
     "data": {
      "text/plain": [
       "Text(0.5, 1.0, 'Error vs Num. Simulations (1k to 100k) - LSM Call')"
      ]
     },
     "execution_count": 60,
     "metadata": {},
     "output_type": "execute_result"
    },
    {
     "data": {
      "image/png": "[encoded data removed]",
      "text/plain": [
       "<Figure size 432x288 with 1 Axes>"
      ]
     },
     "metadata": {
      "needs_background": "light"
     },
     "output_type": "display_data"
    }
   ],
   "source": [
    "plt.plot(14.45 - np.array(call_fnsims))\n",
    "plt.title(\"Error vs Num. Simulations (1k to 100k) - LSM Call\")"
   ]
  },
  {
   "cell_type": "code",
   "execution_count": 61,
   "metadata": {},
   "outputs": [
    {
     "data": {
      "text/plain": [
       "Text(0.5, 1.0, 'Error vs Num. Simulations (1k to 100k) - LSM Put')"
      ]
     },
     "execution_count": 61,
     "metadata": {},
     "output_type": "execute_result"
    },
    {
     "data": {
      "image/png": "[encoded data removed]",
      "text/plain": [
       "<Figure size 432x288 with 1 Axes>"
      ]
     },
     "metadata": {
      "needs_background": "light"
     },
     "output_type": "display_data"
    }
   ],
   "source": [
    "plt.plot(8.55 - np.array(put_fnsims))\n",
    "plt.title(\"Error vs Num. Simulations (1k to 100k) - LSM Put\")"
   ]
  },
  {
   "cell_type": "markdown",
   "metadata": {},
   "source": [
    "##### Error vs Num. Trees Graph (MC)"
   ]
  },
  {
   "cell_type": "code",
   "execution_count": 101,
   "metadata": {},
   "outputs": [],
   "source": [
    "call_fntree = []\n",
    "for i in range(3, 1000, 10):\n",
    "    # put_price = lsm_pricer(\"ap\", i, S0, K, r, sig, T, discrete_freq, POLY_DEGREE)\n",
    "    call_price = btree_pricer(S0, K, sig, r, T, i, \"ac\")\n",
    "    call_fntree.append(call_price)"
   ]
  },
  {
   "cell_type": "code",
   "execution_count": 105,
   "metadata": {},
   "outputs": [],
   "source": [
    "put_fntree = []\n",
    "for i in range(3, 1000, 10):\n",
    "    # put_price = lsm_pricer(\"ap\", i, S0, K, r, sig, T, discrete_freq, POLY_DEGREE)\n",
    "    put_price = btree_pricer(S0, K, sig, r, T, i, \"ap\")\n",
    "    put_fntree.append(put_price)"
   ]
  },
  {
   "cell_type": "code",
   "execution_count": 102,
   "metadata": {},
   "outputs": [
    {
     "data": {
      "text/plain": [
       "Text(0.5, 1.0, 'Error vs Num. Steps (3 to 1000) - BT Call')"
      ]
     },
     "execution_count": 102,
     "metadata": {},
     "output_type": "execute_result"
    },
    {
     "data": {
      "image/png": "[encoded data removed]",
      "text/plain": [
       "<Figure size 432x288 with 1 Axes>"
      ]
     },
     "metadata": {
      "needs_background": "light"
     },
     "output_type": "display_data"
    }
   ],
   "source": [
    "plt.plot(actual_call - np.array(call_fntree))\n",
    "plt.title(\"Error vs Num. Steps (3 to 1000) - BT Call\")"
   ]
  },
  {
   "cell_type": "code",
   "execution_count": 106,
   "metadata": {},
   "outputs": [
    {
     "data": {
      "text/plain": [
       "Text(0.5, 1.0, 'Error vs Num. Steps (3 to 1000) - BT Put')"
      ]
     },
     "execution_count": 106,
     "metadata": {},
     "output_type": "execute_result"
    },
    {
     "data": {
      "image/png": "[encoded data removed]",
      "text/plain": [
       "<Figure size 432x288 with 1 Axes>"
      ]
     },
     "metadata": {
      "needs_background": "light"
     },
     "output_type": "display_data"
    }
   ],
   "source": [
    "plt.plot(actual_put - np.array(put_fntree))\n",
    "plt.title(\"Error vs Num. Steps (3 to 1000) - BT Put\")"
   ]
  },
  {
   "cell_type": "code",
   "execution_count": null,
   "metadata": {},
   "outputs": [],
   "source": []
  }
 ],
 "metadata": {
  "kernelspec": {
   "display_name": "Python 3.8.6 64-bit",
   "language": "python",
   "name": "python3"
  },
  "language_info": {
   "codemirror_mode": {
    "name": "ipython",
    "version": 3
   },
   "file_extension": ".py",
   "mimetype": "text/x-python",
   "name": "python",
   "nbconvert_exporter": "python",
   "pygments_lexer": "ipython3",
   "version": "3.8.6 (tags/v3.8.6:db45529, Sep 23 2020, 15:52:53) [MSC v.1927 64 bit (AMD64)]"
  },
  "orig_nbformat": 4,
  "vscode": {
   "interpreter": {
    "hash": "0bb75c20e1280d7c7443a0a37d938ae35e6dac5d0c3dfd0ff98a286ed926c26c"
   }
  }
 },
 "nbformat": 4,
 "nbformat_minor": 2
}
