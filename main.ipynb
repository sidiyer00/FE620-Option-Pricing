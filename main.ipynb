{
 "cells": [
  {
   "cell_type": "markdown",
   "metadata": {},
   "source": [
    "### Import libraries"
   ]
  },
  {
   "cell_type": "code",
   "execution_count": 2,
   "metadata": {},
   "outputs": [],
   "source": [
    "import numpy as np\n",
    "import pandas as pd\n",
    "import matplotlib.pyplot as plt\n",
    "\n",
    "from LSMPricing import lsm_pricer\n",
    "from BinomialTreePricing import btree_pricer"
   ]
  },
  {
   "cell_type": "markdown",
   "metadata": {},
   "source": [
    "### Input params"
   ]
  },
  {
   "cell_type": "code",
   "execution_count": 16,
   "metadata": {},
   "outputs": [],
   "source": [
    "# Simulation Parameters\n",
    "nsims, S0, sig, T, discrete_freq = 2000, 100, .25, 1, 252\n",
    "# Option Parameters\n",
    "OP_TYPE, K, r, POLY_DEGREE = \"put\", 120, .06, 5"
   ]
  },
  {
   "cell_type": "markdown",
   "metadata": {},
   "source": [
    "### LSM Monte Carlo Pricing of American Call & Put"
   ]
  },
  {
   "cell_type": "code",
   "execution_count": 27,
   "metadata": {},
   "outputs": [
    {
     "name": "stdout",
     "output_type": "stream",
     "text": [
      "American Put:  20.9028483007571\n",
      "American call:  5.337110684783634\n"
     ]
    }
   ],
   "source": [
    "put_price = lsm_pricer(\"put\", nsims, S0, K, r, sig, T, discrete_freq, POLY_DEGREE)\n",
    "call_price = lsm_pricer(\"call\", nsims, S0, K, r, sig, T, discrete_freq, POLY_DEGREE)\n",
    "print(\"American Put: \", put_price)\n",
    "print(\"American call: \", call_price)"
   ]
  },
  {
   "cell_type": "markdown",
   "metadata": {},
   "source": [
    "### Binomial Tree Pricing of American Call & Put"
   ]
  },
  {
   "cell_type": "code",
   "execution_count": 21,
   "metadata": {},
   "outputs": [
    {
     "name": "stdout",
     "output_type": "stream",
     "text": [
      "American Put:  20.870549599324622\n",
      "American call:  5.325554911005737\n"
     ]
    }
   ],
   "source": [
    "put_price = btree_pricer(S0, K, sig, r, T, 1000, \"ap\")\n",
    "call_price = btree_pricer(S0, K, sig, r, T, 1000, \"ac\")\n",
    "print(\"American Put: \", put_price)\n",
    "print(\"American call: \", call_price)"
   ]
  }
 ],
 "metadata": {
  "kernelspec": {
   "display_name": "Python 3.8.6 64-bit",
   "language": "python",
   "name": "python3"
  },
  "language_info": {
   "codemirror_mode": {
    "name": "ipython",
    "version": 3
   },
   "file_extension": ".py",
   "mimetype": "text/x-python",
   "name": "python",
   "nbconvert_exporter": "python",
   "pygments_lexer": "ipython3",
   "version": "3.8.6"
  },
  "orig_nbformat": 4,
  "vscode": {
   "interpreter": {
    "hash": "0bb75c20e1280d7c7443a0a37d938ae35e6dac5d0c3dfd0ff98a286ed926c26c"
   }
  }
 },
 "nbformat": 4,
 "nbformat_minor": 2
}
