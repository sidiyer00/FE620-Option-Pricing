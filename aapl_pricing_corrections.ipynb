{
 "cells": [
  {
   "cell_type": "code",
   "execution_count": 1,
   "metadata": {},
   "outputs": [],
   "source": [
    "import pandas as pd\n",
    "import numpy as np\n",
    "import os\n",
    "import matplotlib.pyplot as plt\n",
    "from yahoofinancials import YahooFinancials\n",
    "\n",
    "from LSMPricing import lsm_pricer\n",
    "from BinomialTreePricing import btree_pricer\n",
    "from BSAnalyticalPricing import BSAnalytical\n",
    "from MonteCarlo import simulate_gbm_paths"
   ]
  },
  {
   "cell_type": "code",
   "execution_count": 2,
   "metadata": {},
   "outputs": [],
   "source": [
    "currentdir = os.getcwd()\n",
    "targetdir = currentdir + \"\\\\aapl_eod_2019-ubqxfb\"\n",
    "files = os.listdir(targetdir)\n",
    "\n",
    "data = pd.read_csv(targetdir + \"\\\\\"+files[0], sep=\",\", low_memory=False)\n",
    "for i in range(1, len(files)):\n",
    "    data = pd.concat([data, pd.read_csv(targetdir + \"\\\\\"+files[i], sep=\",\", low_memory=False)])\n",
    "data.reset_index(inplace=True)"
   ]
  },
  {
   "cell_type": "code",
   "execution_count": 3,
   "metadata": {},
   "outputs": [
    {
     "data": {
      "text/html": [
       "<div>\n",
       "<style scoped>\n",
       "    .dataframe tbody tr th:only-of-type {\n",
       "        vertical-align: middle;\n",
       "    }\n",
       "\n",
       "    .dataframe tbody tr th {\n",
       "        vertical-align: top;\n",
       "    }\n",
       "\n",
       "    .dataframe thead th {\n",
       "        text-align: right;\n",
       "    }\n",
       "</style>\n",
       "<table border=\"1\" class=\"dataframe\">\n",
       "  <thead>\n",
       "    <tr style=\"text-align: right;\">\n",
       "      <th></th>\n",
       "      <th>index</th>\n",
       "      <th>[QUOTE_UNIXTIME]</th>\n",
       "      <th>[QUOTE_READTIME]</th>\n",
       "      <th>[QUOTE_DATE]</th>\n",
       "      <th>[QUOTE_TIME_HOURS]</th>\n",
       "      <th>[UNDERLYING_LAST]</th>\n",
       "      <th>[EXPIRE_DATE]</th>\n",
       "      <th>[EXPIRE_UNIX]</th>\n",
       "      <th>[DTE]</th>\n",
       "      <th>[C_DELTA]</th>\n",
       "      <th>...</th>\n",
       "      <th>[P_LAST]</th>\n",
       "      <th>[P_DELTA]</th>\n",
       "      <th>[P_GAMMA]</th>\n",
       "      <th>[P_VEGA]</th>\n",
       "      <th>[P_THETA]</th>\n",
       "      <th>[P_RHO]</th>\n",
       "      <th>[P_IV]</th>\n",
       "      <th>[P_VOLUME]</th>\n",
       "      <th>[STRIKE_DISTANCE]</th>\n",
       "      <th>[STRIKE_DISTANCE_PCT]</th>\n",
       "    </tr>\n",
       "  </thead>\n",
       "  <tbody>\n",
       "    <tr>\n",
       "      <th>0</th>\n",
       "      <td>0</td>\n",
       "      <td>1546462800</td>\n",
       "      <td>2019-01-02 16:00</td>\n",
       "      <td>2019-01-02</td>\n",
       "      <td>16.0</td>\n",
       "      <td>157.92</td>\n",
       "      <td>2019-01-04</td>\n",
       "      <td>1546635600</td>\n",
       "      <td>2.0</td>\n",
       "      <td>0.90886</td>\n",
       "      <td>...</td>\n",
       "      <td>0.01</td>\n",
       "      <td>-0.00034</td>\n",
       "      <td>0.00011</td>\n",
       "      <td>0.00079</td>\n",
       "      <td>-0.00509</td>\n",
       "      <td>-0.00041</td>\n",
       "      <td>1.625550</td>\n",
       "      <td>0.000000</td>\n",
       "      <td>57.9</td>\n",
       "      <td>0.367</td>\n",
       "    </tr>\n",
       "    <tr>\n",
       "      <th>1</th>\n",
       "      <td>1</td>\n",
       "      <td>1546462800</td>\n",
       "      <td>2019-01-02 16:00</td>\n",
       "      <td>2019-01-02</td>\n",
       "      <td>16.0</td>\n",
       "      <td>157.92</td>\n",
       "      <td>2019-01-04</td>\n",
       "      <td>1546635600</td>\n",
       "      <td>2.0</td>\n",
       "      <td>1.00000</td>\n",
       "      <td>...</td>\n",
       "      <td>0.01</td>\n",
       "      <td>-0.00069</td>\n",
       "      <td>0.00010</td>\n",
       "      <td>0.00039</td>\n",
       "      <td>-0.00518</td>\n",
       "      <td>-0.00010</td>\n",
       "      <td>1.461900</td>\n",
       "      <td>200.000000</td>\n",
       "      <td>52.9</td>\n",
       "      <td>0.335</td>\n",
       "    </tr>\n",
       "    <tr>\n",
       "      <th>2</th>\n",
       "      <td>2</td>\n",
       "      <td>1546462800</td>\n",
       "      <td>2019-01-02 16:00</td>\n",
       "      <td>2019-01-02</td>\n",
       "      <td>16.0</td>\n",
       "      <td>157.92</td>\n",
       "      <td>2019-01-04</td>\n",
       "      <td>1546635600</td>\n",
       "      <td>2.0</td>\n",
       "      <td>1.00000</td>\n",
       "      <td>...</td>\n",
       "      <td>0.04</td>\n",
       "      <td>-0.00066</td>\n",
       "      <td>0.00020</td>\n",
       "      <td>0.00000</td>\n",
       "      <td>-0.00425</td>\n",
       "      <td>-0.00009</td>\n",
       "      <td>1.305490</td>\n",
       "      <td>706.000000</td>\n",
       "      <td>47.9</td>\n",
       "      <td>0.303</td>\n",
       "    </tr>\n",
       "    <tr>\n",
       "      <th>3</th>\n",
       "      <td>3</td>\n",
       "      <td>1546462800</td>\n",
       "      <td>2019-01-02 16:00</td>\n",
       "      <td>2019-01-02</td>\n",
       "      <td>16.0</td>\n",
       "      <td>157.92</td>\n",
       "      <td>2019-01-04</td>\n",
       "      <td>1546635600</td>\n",
       "      <td>2.0</td>\n",
       "      <td>1.00000</td>\n",
       "      <td>...</td>\n",
       "      <td>0.01</td>\n",
       "      <td>-0.00120</td>\n",
       "      <td>0.00021</td>\n",
       "      <td>0.00089</td>\n",
       "      <td>-0.00434</td>\n",
       "      <td>-0.00005</td>\n",
       "      <td>1.155130</td>\n",
       "      <td>0.000000</td>\n",
       "      <td>42.9</td>\n",
       "      <td>0.272</td>\n",
       "    </tr>\n",
       "    <tr>\n",
       "      <th>4</th>\n",
       "      <td>4</td>\n",
       "      <td>1546462800</td>\n",
       "      <td>2019-01-02 16:00</td>\n",
       "      <td>2019-01-02</td>\n",
       "      <td>16.0</td>\n",
       "      <td>157.92</td>\n",
       "      <td>2019-01-04</td>\n",
       "      <td>1546635600</td>\n",
       "      <td>2.0</td>\n",
       "      <td>1.00000</td>\n",
       "      <td>...</td>\n",
       "      <td>0.01</td>\n",
       "      <td>-0.00109</td>\n",
       "      <td>0.00024</td>\n",
       "      <td>0.00045</td>\n",
       "      <td>-0.00429</td>\n",
       "      <td>-0.00020</td>\n",
       "      <td>1.010620</td>\n",
       "      <td>0.000000</td>\n",
       "      <td>37.9</td>\n",
       "      <td>0.240</td>\n",
       "    </tr>\n",
       "  </tbody>\n",
       "</table>\n",
       "<p>5 rows × 34 columns</p>\n",
       "</div>"
      ],
      "text/plain": [
       "   index  [QUOTE_UNIXTIME]   [QUOTE_READTIME]  [QUOTE_DATE]  \\\n",
       "0      0        1546462800   2019-01-02 16:00    2019-01-02   \n",
       "1      1        1546462800   2019-01-02 16:00    2019-01-02   \n",
       "2      2        1546462800   2019-01-02 16:00    2019-01-02   \n",
       "3      3        1546462800   2019-01-02 16:00    2019-01-02   \n",
       "4      4        1546462800   2019-01-02 16:00    2019-01-02   \n",
       "\n",
       "    [QUOTE_TIME_HOURS]   [UNDERLYING_LAST]  [EXPIRE_DATE]   [EXPIRE_UNIX]  \\\n",
       "0                 16.0              157.92     2019-01-04      1546635600   \n",
       "1                 16.0              157.92     2019-01-04      1546635600   \n",
       "2                 16.0              157.92     2019-01-04      1546635600   \n",
       "3                 16.0              157.92     2019-01-04      1546635600   \n",
       "4                 16.0              157.92     2019-01-04      1546635600   \n",
       "\n",
       "    [DTE]   [C_DELTA]  ...   [P_LAST]   [P_DELTA]   [P_GAMMA]   [P_VEGA]  \\\n",
       "0     2.0     0.90886  ...       0.01    -0.00034     0.00011    0.00079   \n",
       "1     2.0     1.00000  ...       0.01    -0.00069     0.00010    0.00039   \n",
       "2     2.0     1.00000  ...       0.04    -0.00066     0.00020    0.00000   \n",
       "3     2.0     1.00000  ...       0.01    -0.00120     0.00021    0.00089   \n",
       "4     2.0     1.00000  ...       0.01    -0.00109     0.00024    0.00045   \n",
       "\n",
       "   [P_THETA]  [P_RHO]     [P_IV]   [P_VOLUME]  [STRIKE_DISTANCE]  \\\n",
       "0   -0.00509 -0.00041   1.625550     0.000000               57.9   \n",
       "1   -0.00518 -0.00010   1.461900   200.000000               52.9   \n",
       "2   -0.00425 -0.00009   1.305490   706.000000               47.9   \n",
       "3   -0.00434 -0.00005   1.155130     0.000000               42.9   \n",
       "4   -0.00429 -0.00020   1.010620     0.000000               37.9   \n",
       "\n",
       "   [STRIKE_DISTANCE_PCT]  \n",
       "0                  0.367  \n",
       "1                  0.335  \n",
       "2                  0.303  \n",
       "3                  0.272  \n",
       "4                  0.240  \n",
       "\n",
       "[5 rows x 34 columns]"
      ]
     },
     "metadata": {},
     "output_type": "display_data"
    },
    {
     "data": {
      "text/plain": [
       "Index(['index', '[QUOTE_UNIXTIME]', ' [QUOTE_READTIME]', ' [QUOTE_DATE]',\n",
       "       ' [QUOTE_TIME_HOURS]', ' [UNDERLYING_LAST]', ' [EXPIRE_DATE]',\n",
       "       ' [EXPIRE_UNIX]', ' [DTE]', ' [C_DELTA]', ' [C_GAMMA]', ' [C_VEGA]',\n",
       "       ' [C_THETA]', ' [C_RHO]', ' [C_IV]', ' [C_VOLUME]', ' [C_LAST]',\n",
       "       ' [C_SIZE]', ' [C_BID]', ' [C_ASK]', ' [STRIKE]', ' [P_BID]',\n",
       "       ' [P_ASK]', ' [P_SIZE]', ' [P_LAST]', ' [P_DELTA]', ' [P_GAMMA]',\n",
       "       ' [P_VEGA]', ' [P_THETA]', ' [P_RHO]', ' [P_IV]', ' [P_VOLUME]',\n",
       "       ' [STRIKE_DISTANCE]', ' [STRIKE_DISTANCE_PCT]'],\n",
       "      dtype='object')"
      ]
     },
     "execution_count": 3,
     "metadata": {},
     "output_type": "execute_result"
    }
   ],
   "source": [
    "display(data.head())\n",
    "data.columns"
   ]
  },
  {
   "cell_type": "code",
   "execution_count": 5,
   "metadata": {},
   "outputs": [],
   "source": [
    "first_day_options = data[data[\" [QUOTE_DATE]\"] == \" 2019-01-02\"]\n",
    "first_day_3m_options = first_day_options[first_day_options[\" [EXPIRE_DATE]\"] == ' 2019-03-15']\n",
    "# first_day_3m_options[first_day_options[\" [STRIKE]\"] == 130][\" [P_IV]\"]"
   ]
  },
  {
   "cell_type": "code",
   "execution_count": 87,
   "metadata": {},
   "outputs": [
    {
     "data": {
      "text/plain": [
       "Text(0.5, 1.0, 'AAPL 3M 2019 IV')"
      ]
     },
     "execution_count": 87,
     "metadata": {},
     "output_type": "execute_result"
    },
    {
     "data": {
      "image/png": "[encoded data removed]",
      "text/plain": [
       "<Figure size 432x288 with 1 Axes>"
      ]
     },
     "metadata": {
      "needs_background": "light"
     },
     "output_type": "display_data"
    }
   ],
   "source": [
    "plt.plot(first_day_3m_options[[\" [STRIKE_DISTANCE]\", \" [STRIKE]\", \" [C_ASK]\", \" [P_ASK]\", \" [P_IV]\", \" [C_IV]\"]][\" [C_IV]\"].astype(float))\n",
    "plt.title(\"AAPL 3M 2019 IV\")"
   ]
  },
  {
   "cell_type": "code",
   "execution_count": 6,
   "metadata": {},
   "outputs": [
    {
     "data": {
      "text/html": [
       "<div>\n",
       "<style scoped>\n",
       "    .dataframe tbody tr th:only-of-type {\n",
       "        vertical-align: middle;\n",
       "    }\n",
       "\n",
       "    .dataframe tbody tr th {\n",
       "        vertical-align: top;\n",
       "    }\n",
       "\n",
       "    .dataframe thead th {\n",
       "        text-align: right;\n",
       "    }\n",
       "</style>\n",
       "<table border=\"1\" class=\"dataframe\">\n",
       "  <thead>\n",
       "    <tr style=\"text-align: right;\">\n",
       "      <th></th>\n",
       "      <th>high</th>\n",
       "      <th>low</th>\n",
       "      <th>open</th>\n",
       "      <th>close</th>\n",
       "      <th>volume</th>\n",
       "      <th>adjclose</th>\n",
       "    </tr>\n",
       "    <tr>\n",
       "      <th>formatted_date</th>\n",
       "      <th></th>\n",
       "      <th></th>\n",
       "      <th></th>\n",
       "      <th></th>\n",
       "      <th></th>\n",
       "      <th></th>\n",
       "    </tr>\n",
       "  </thead>\n",
       "  <tbody>\n",
       "    <tr>\n",
       "      <th>2018-01-02</th>\n",
       "      <td>43.075001</td>\n",
       "      <td>42.314999</td>\n",
       "      <td>42.540001</td>\n",
       "      <td>43.064999</td>\n",
       "      <td>102223600</td>\n",
       "      <td>40.950493</td>\n",
       "    </tr>\n",
       "    <tr>\n",
       "      <th>2018-01-03</th>\n",
       "      <td>43.637501</td>\n",
       "      <td>42.990002</td>\n",
       "      <td>43.132500</td>\n",
       "      <td>43.057499</td>\n",
       "      <td>118071600</td>\n",
       "      <td>40.943359</td>\n",
       "    </tr>\n",
       "    <tr>\n",
       "      <th>2018-01-04</th>\n",
       "      <td>43.367500</td>\n",
       "      <td>43.020000</td>\n",
       "      <td>43.134998</td>\n",
       "      <td>43.257500</td>\n",
       "      <td>89738400</td>\n",
       "      <td>41.133545</td>\n",
       "    </tr>\n",
       "    <tr>\n",
       "      <th>2018-01-05</th>\n",
       "      <td>43.842499</td>\n",
       "      <td>43.262501</td>\n",
       "      <td>43.360001</td>\n",
       "      <td>43.750000</td>\n",
       "      <td>94640000</td>\n",
       "      <td>41.601856</td>\n",
       "    </tr>\n",
       "    <tr>\n",
       "      <th>2018-01-08</th>\n",
       "      <td>43.902500</td>\n",
       "      <td>43.482498</td>\n",
       "      <td>43.587502</td>\n",
       "      <td>43.587502</td>\n",
       "      <td>82271200</td>\n",
       "      <td>41.447350</td>\n",
       "    </tr>\n",
       "  </tbody>\n",
       "</table>\n",
       "</div>"
      ],
      "text/plain": [
       "                     high        low       open      close     volume  \\\n",
       "formatted_date                                                          \n",
       "2018-01-02      43.075001  42.314999  42.540001  43.064999  102223600   \n",
       "2018-01-03      43.637501  42.990002  43.132500  43.057499  118071600   \n",
       "2018-01-04      43.367500  43.020000  43.134998  43.257500   89738400   \n",
       "2018-01-05      43.842499  43.262501  43.360001  43.750000   94640000   \n",
       "2018-01-08      43.902500  43.482498  43.587502  43.587502   82271200   \n",
       "\n",
       "                 adjclose  \n",
       "formatted_date             \n",
       "2018-01-02      40.950493  \n",
       "2018-01-03      40.943359  \n",
       "2018-01-04      41.133545  \n",
       "2018-01-05      41.601856  \n",
       "2018-01-08      41.447350  "
      ]
     },
     "execution_count": 6,
     "metadata": {},
     "output_type": "execute_result"
    }
   ],
   "source": [
    "start_date=\"2018-01-01\"\n",
    "end_date=\"2019-01-01\"\n",
    "time_interval=\"daily\"\n",
    "\n",
    "aapl = YahooFinancials(\"AAPL\")\n",
    "aapl = aapl.get_historical_price_data(start_date=start_date, end_date=end_date, time_interval=time_interval)\n",
    "aapl = pd.DataFrame(aapl[\"AAPL\"]['prices'])\n",
    "aapl = aapl.drop('date', axis=1).set_index('formatted_date')\n",
    "aapl.head()"
   ]
  },
  {
   "cell_type": "code",
   "execution_count": 8,
   "metadata": {},
   "outputs": [],
   "source": [
    "sig = np.std(aapl[\"adjclose\"].pct_change()[1:])*np.sqrt(len(aapl))\n",
    "nsims = 10000\n",
    "S0 = 157.92\n",
    "T = .25\n",
    "discrete_freq = 252\n",
    "OP_TYPE = \"put\"\n",
    "K = 155.0\n",
    "r = .016\n",
    "POLY_DEGREE = 5"
   ]
  },
  {
   "cell_type": "code",
   "execution_count": 46,
   "metadata": {},
   "outputs": [],
   "source": [
    "actual = []\n",
    "for i in range(130, 180, 5):\n",
    "    actual_data_op = first_day_3m_options[first_day_3m_options[\" [STRIKE]\"] == i]\n",
    "    actual_call = (float(actual_data_op[' [C_BID]']) + float(actual_data_op[' [C_ASK]']))/2\n",
    "    actual_put = (float(actual_data_op[' [P_BID]']) + float(actual_data_op[' [P_ASK]']))/2\n",
    "    actual.append((actual_put, actual_call))\n",
    "    # print(\"Actual American Put (\", str(i), \"):\", actual_put)\n",
    "    # print(\"Actual American call (\", str(i), \"):\", actual_call)\n",
    "actual = np.array(actual)"
   ]
  },
  {
   "cell_type": "code",
   "execution_count": 33,
   "metadata": {},
   "outputs": [],
   "source": [
    "lsm = []\n",
    "for i in range(130, 180, 5):\n",
    "    put_price = lsm_pricer(\"ap\", nsims, S0, i, r, sig, T, discrete_freq, POLY_DEGREE)\n",
    "    call_price = lsm_pricer(\"ac\", nsims, S0, i, r, sig, T, discrete_freq, POLY_DEGREE)\n",
    "    lsm.append((put_price, call_price))\n",
    "    # print(\"LSM MC American Put \",str(i),\"): \", put_price)\n",
    "    # print(\"LSM MC American call \",str(i), \"):\", call_price)\n",
    "lsm = np.array(lsm)\n",
    "\n",
    "bt = []\n",
    "for i in range(130, 180, 5):\n",
    "    # Without control variates\n",
    "    put_price = btree_pricer(S0, i, sig, r, T, 1000, \"ap\")\n",
    "    call_price = btree_pricer(S0, i, sig, r, T, 1000, \"ac\")\n",
    "    bt.append((put_price, call_price))\n",
    "    # print(\"BT American Put (\",str(i),\"):\", put_price)\n",
    "    # print(\"BT American call (\",str(i), \"):\", call_price)\n",
    "bt = np.array(bt)"
   ]
  },
  {
   "cell_type": "code",
   "execution_count": 39,
   "metadata": {},
   "outputs": [
    {
     "data": {
      "text/plain": [
       "array([[-0.17320812, -0.00914772],\n",
       "       [-0.07821861, -0.00333914],\n",
       "       [-0.06369654,  0.00194984],\n",
       "       [-0.04994496, -0.0307554 ],\n",
       "       [-0.01716256, -0.01663296],\n",
       "       [-0.02786072, -0.03120568],\n",
       "       [ 0.02405635, -0.0297449 ],\n",
       "       [-0.00332162, -0.00855574],\n",
       "       [-0.00631841,  0.00210737],\n",
       "       [-0.00943647, -0.03589975]])"
      ]
     },
     "execution_count": 39,
     "metadata": {},
     "output_type": "execute_result"
    }
   ],
   "source": [
    "(lsm - bt)/lsm"
   ]
  },
  {
   "cell_type": "code",
   "execution_count": 41,
   "metadata": {},
   "outputs": [],
   "source": [
    "fnsims = []\n",
    "for i in range(1000, 100000, 4000):\n",
    "    # put_price = lsm_pricer(\"ap\", i, S0, K, r, sig, T, discrete_freq, POLY_DEGREE)\n",
    "    call_price = lsm_pricer(\"ac\", i, S0, K, r, sig, T, discrete_freq, POLY_DEGREE)\n",
    "    put_price = lsm_pricer(\"ap\", i, S0, K, r, sig, T, discrete_freq, POLY_DEGREE)\n",
    "    fnsims.append((put_price, call_price))\n",
    "fnsims = np.array(fnsims)"
   ]
  },
  {
   "cell_type": "code",
   "execution_count": 75,
   "metadata": {},
   "outputs": [
    {
     "data": {
      "image/png": "[encoded data removed]",
      "text/plain": [
       "<Figure size 432x288 with 1 Axes>"
      ]
     },
     "metadata": {
      "needs_background": "light"
     },
     "output_type": "display_data"
    }
   ],
   "source": [
    "# put and call error vs num sims\n",
    "plt.plot(fnsims - actual[5])\n",
    "plt.legend([\"Put\", \"Call\"])\n",
    "plt.title(\"LSM MC Error vs Num Sims (1k to 100k)\")\n",
    "plt.show()"
   ]
  },
  {
   "cell_type": "code",
   "execution_count": 85,
   "metadata": {},
   "outputs": [],
   "source": [
    "fntree = []\n",
    "for i in range(12, 4000, 10):\n",
    "    # put_price = lsm_pricer(\"ap\", i, S0, K, r, sig, T, discrete_freq, POLY_DEGREE)\n",
    "    call_price = btree_pricer(S0, K, sig, r, T, i, \"ac\")\n",
    "    put_price = btree_pricer(S0, K, sig, r, T, i, \"ap\")\n",
    "    fntree.append((put_price, call_price))\n",
    "fntree = np.array(fntree)"
   ]
  },
  {
   "cell_type": "code",
   "execution_count": 86,
   "metadata": {},
   "outputs": [
    {
     "data": {
      "image/png": "[encoded data removed]",
      "text/plain": [
       "<Figure size 432x288 with 1 Axes>"
      ]
     },
     "metadata": {
      "needs_background": "light"
     },
     "output_type": "display_data"
    }
   ],
   "source": [
    "# put and call error vs num sims\n",
    "plt.plot(fntree - actual[5])\n",
    "plt.legend([\"Put\", \"Call\"])\n",
    "plt.title(\"BinomTree Error vs Num Sims (3 to 1000)\")\n",
    "plt.show()"
   ]
  },
  {
   "cell_type": "code",
   "execution_count": 81,
   "metadata": {},
   "outputs": [
    {
     "data": {
      "text/plain": [
       "array([[ 0.77282895, 29.20956758],\n",
       "       [ 1.37002017, 24.82470547],\n",
       "       [ 2.26330519, 20.7345504 ],\n",
       "       [ 3.51663075, 17.00241566],\n",
       "       [ 5.17801396, 13.67553085],\n",
       "       [ 7.27718713, 10.78328464],\n",
       "       [ 9.84346874,  8.35443237],\n",
       "       [12.83431003,  6.34436356],\n",
       "       [16.21116279,  4.71341613],\n",
       "       [19.96306498,  3.45330862]])"
      ]
     },
     "execution_count": 81,
     "metadata": {},
     "output_type": "execute_result"
    }
   ],
   "source": [
    "actual\n",
    "lsm\n",
    "bt"
   ]
  },
  {
   "cell_type": "code",
   "execution_count": 84,
   "metadata": {},
   "outputs": [
    {
     "data": {
      "image/png": "[encoded data removed]",
      "text/plain": [
       "<Figure size 432x288 with 1 Axes>"
      ]
     },
     "metadata": {
      "needs_background": "light"
     },
     "output_type": "display_data"
    }
   ],
   "source": [
    "plt.plot(fntree)\n",
    "plt.plot(fnsims)\n",
    "plt.title(\"BinomTree vs LSM MC - Price Convergence\")\n",
    "plt.legend([\"BinomTree\", \"LSM MC\"])\n",
    "plt.show()"
   ]
  }
 ],
 "metadata": {
  "kernelspec": {
   "display_name": "Python 3",
   "language": "python",
   "name": "python3"
  },
  "language_info": {
   "codemirror_mode": {
    "name": "ipython",
    "version": 3
   },
   "file_extension": ".py",
   "mimetype": "text/x-python",
   "name": "python",
   "nbconvert_exporter": "python",
   "pygments_lexer": "ipython3",
   "version": "3.8.6"
  },
  "orig_nbformat": 4,
  "vscode": {
   "interpreter": {
    "hash": "0bb75c20e1280d7c7443a0a37d938ae35e6dac5d0c3dfd0ff98a286ed926c26c"
   }
  }
 },
 "nbformat": 4,
 "nbformat_minor": 2
}
